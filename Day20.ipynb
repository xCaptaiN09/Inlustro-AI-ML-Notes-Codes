{
 "cells": [
  {
   "cell_type": "code",
   "execution_count": null,
   "id": "bba457ac",
   "metadata": {},
   "outputs": [],
   "source": [
    "# Stack & Queue -> linear data structure -> O(1)\n",
    "\n",
    "# Stack follows LIFO & Queue follows FIFO.\n",
    "\n",
    "# Stack Methods\n",
    "'''\n",
    "    1. Push()   - add elements into stack\n",
    "    2. Pop()    - remove elements from stack\n",
    "    3. Peek()   - view the top element without deleting. Can also use Top().\n",
    "    4. Isempty()- checks if the stack is empty or not.\n",
    "    5. size()   - get the size of stack.\n",
    "'''"
   ]
  },
  {
   "cell_type": "code",
   "execution_count": null,
   "id": "04b1a26e",
   "metadata": {},
   "outputs": [
    {
     "name": "stdout",
     "output_type": "stream",
     "text": [
      "[3, 4, 5]\n"
     ]
    }
   ],
   "source": [
    "# stack using list.\n",
    "\n",
    "stack = []\n",
    "stack.append(3)\n",
    "stack.append(4)\n",
    "stack.append(5)\n",
    "print(stack)"
   ]
  },
  {
   "cell_type": "code",
   "execution_count": null,
   "id": "ae2ef1e5",
   "metadata": {},
   "outputs": [
    {
     "name": "stdout",
     "output_type": "stream",
     "text": [
      "[3, 6, 7]\n",
      "[3, 6]\n",
      "6\n"
     ]
    }
   ],
   "source": [
    "# stack using stack class\n",
    "\n",
    "class Stack:\n",
    "    def __init__(self):\n",
    "        self.stack = []\n",
    "    def push(self, element):\n",
    "        self.stack.append(element)\n",
    "    def pop(self):\n",
    "        if self.is_empty():\n",
    "            print(\"Stack is empty, can't pop\")\n",
    "        return self.stack.pop()\n",
    "    def peek(self):\n",
    "        return self.stack[-1]\n",
    "    def is_empty(self):\n",
    "        return len(self.stack) == 0\n",
    "    def size(self):\n",
    "        return len(self.stack)\n",
    "    def display(self):\n",
    "        print(self.stack)\n",
    "    \n",
    "myStack = Stack()\n",
    "myStack.push(3)\n",
    "myStack.push(6)\n",
    "myStack.push(7)\n",
    "myStack.display()\n",
    "myStack.pop()\n",
    "myStack.display()\n",
    "\n",
    "print(myStack.peek())"
   ]
  },
  {
   "cell_type": "code",
   "execution_count": null,
   "id": "425d3f16",
   "metadata": {},
   "outputs": [
    {
     "name": "stdout",
     "output_type": "stream",
     "text": [
      "True\n",
      "True\n",
      "0\n"
     ]
    }
   ],
   "source": [
    "# Qn: check paranthesis validity\n",
    "\n",
    "s = '{()}'\n",
    "pairs = {')' : '(', ']' : '[', '}' : '{'}\n",
    "# key -> close       value -> open\n",
    "\n",
    "# Stack concept\n",
    "list = []\n",
    "for ch in s:\n",
    "    if ch in pairs.values():\n",
    "        list.append(ch)\n",
    "    elif ch in pairs:\n",
    "        if not list or list.pop() != pairs[ch]:\n",
    "            print('False')\n",
    "            break\n",
    "        print('True')\n",
    "print(len(list))"
   ]
  },
  {
   "cell_type": "code",
   "execution_count": null,
   "id": "39a1a4d8",
   "metadata": {},
   "outputs": [],
   "source": [
    "class minStack:\n",
    "    def __init__(self):\n",
    "        self.stack = []\n",
    "        self.min_stack = []\n",
    "    def push(self, val):\n",
    "        self.stack.append(val)\n",
    "        if not self.min_stack or val <= self.min_stack[-1]:\n",
    "            self.min_stack.append(val)\n",
    "    def top(self):\n",
    "        return self.min_stack[-1]\n",
    "    def pop(self):\n",
    "        return self.min_stack.pop()\n",
    "    # def get_min(self):\n",
    "\n",
    "stack = []\n",
    "min_stack = []\n"
   ]
  },
  {
   "cell_type": "code",
   "execution_count": 17,
   "id": "e10763f8",
   "metadata": {},
   "outputs": [
    {
     "name": "stdout",
     "output_type": "stream",
     "text": [
      "False\n"
     ]
    }
   ],
   "source": [
    "s = 'ab#c'\n",
    "t = 'ac#d'\n",
    "s1 = [] \n",
    "s2 = []\n",
    "for ch in s:\n",
    "    if ch != '#':\n",
    "        s1.append(ch)\n",
    "    elif s1:\n",
    "        s1.pop()\n",
    "for ch in t:\n",
    "    if ch != '#':\n",
    "        s2.append(ch)\n",
    "    elif s2:\n",
    "        s2.pop()\n",
    "print(s1 == s2)"
   ]
  },
  {
   "cell_type": "code",
   "execution_count": 2,
   "id": "cb1d0d45",
   "metadata": {},
   "outputs": [],
   "source": [
    "# class queue:\n",
    "#     def __init__(self):\n",
    "#         self.stack = []\n",
    "#         self.stack2 = []\n",
    "#     def enqueue(self, val):\n",
    "#         self.stack.append(val)\n",
    "#     def dequeue(self)\n"
   ]
  },
  {
   "cell_type": "code",
   "execution_count": null,
   "id": "981c80ab",
   "metadata": {},
   "outputs": [],
   "source": []
  }
 ],
 "metadata": {
  "kernelspec": {
   "display_name": ".venv-1 (3.12.3)",
   "language": "python",
   "name": "python3"
  },
  "language_info": {
   "codemirror_mode": {
    "name": "ipython",
    "version": 3
   },
   "file_extension": ".py",
   "mimetype": "text/x-python",
   "name": "python",
   "nbconvert_exporter": "python",
   "pygments_lexer": "ipython3",
   "version": "3.12.3"
  }
 },
 "nbformat": 4,
 "nbformat_minor": 5
}
