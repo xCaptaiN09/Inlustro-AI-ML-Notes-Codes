{
 "cells": [
  {
   "cell_type": "code",
   "execution_count": null,
   "id": "12869cbe",
   "metadata": {},
   "outputs": [
    {
     "name": "stdout",
     "output_type": "stream",
     "text": [
      "1  2  3  4  5  6  "
     ]
    }
   ],
   "source": [
    "#DAY-23\n",
    "#Breadth first search\n",
    "\n",
    "class Node:\n",
    "    def __init__(self,val):\n",
    "        self.val=val\n",
    "        self.left=None\n",
    "        self.right=None\n",
    "root=Node(1)\n",
    "root.left=Node(2)\n",
    "root.right=Node(3)\n",
    "root.left.left=Node(4)\n",
    "root.left.right=Node(5)\n",
    "root.right.right=Node(6)\n",
    "from collections import deque\n",
    "def bfs(root):\n",
    "    if not root:\n",
    "        return\n",
    "    q=deque()\n",
    "    q.append(root)\n",
    "    while q:\n",
    "        node=q.popleft()\n",
    "        print(node.val,end='  ')\n",
    "\n",
    "        if node.left:\n",
    "            q.append(node.left)\n",
    "            \n",
    "        if node.right:\n",
    "            q.append(node.right)    \n",
    "bfs(root)        "
   ]
  },
  {
   "cell_type": "code",
   "execution_count": 4,
   "id": "0b76d0e8",
   "metadata": {},
   "outputs": [
    {
     "name": "stdout",
     "output_type": "stream",
     "text": [
      "1  2  4  5  3  6  "
     ]
    }
   ],
   "source": [
    "#PREORDER:\n",
    "\n",
    "class Node:\n",
    "    def __init__(self, val):\n",
    "        self.val = val\n",
    "        self.left = None\n",
    "        self.right = None\n",
    "\n",
    "root = Node(1)\n",
    "root.left = Node(2)\n",
    "root.right = Node(3)\n",
    "root.left.left = Node(4)\n",
    "root.left.right = Node(5)\n",
    "root.right.right = Node(6)\n",
    "\n",
    "def preorder(root):\n",
    "    if not root:\n",
    "        return\n",
    "    print(root.val, end='  ')    \n",
    "    preorder(root.left)           \n",
    "    preorder(root.right)          \n",
    "\n",
    "preorder(root)\n",
    "\n"
   ]
  },
  {
   "cell_type": "code",
   "execution_count": null,
   "id": "3c200238",
   "metadata": {},
   "outputs": [],
   "source": [
    "#GRAPH:\n",
    "\n",
    "#A graph is a non linear data structure that consists of vertices(nodes) and edges."
   ]
  },
  {
   "cell_type": "code",
   "execution_count": null,
   "id": "3f781cdd",
   "metadata": {},
   "outputs": [],
   "source": [
    "#Types of Graph\n",
    "'''\n",
    "1.Directed:one way roads\n",
    "2.Undirected:Two way roads\n",
    "3.weighted:Distance/cost attached\n",
    "4.unweighted\n",
    "5.cyclic:routes that loop back\n",
    "6.Acyclic:no loops\n",
    "'''  "
   ]
  },
  {
   "cell_type": "code",
   "execution_count": null,
   "id": "2055b862",
   "metadata": {},
   "outputs": [],
   "source": [
    "#Graph representation\n",
    "'''\n",
    "Adjacency list->(python dict of lists)\n",
    "Adjacency matrix->(for dense graphs)\n",
    "'''"
   ]
  },
  {
   "cell_type": "code",
   "execution_count": 5,
   "id": "ab760635",
   "metadata": {},
   "outputs": [
    {
     "name": "stdout",
     "output_type": "stream",
     "text": [
      "{'A': ['B', 'C'], 'B': ['A'], 'C': ['A']}\n"
     ]
    }
   ],
   "source": [
    "#Represent a simple city map\n",
    "'''Lets consider you have 3 cities:A,B,C\n",
    "        There are roads:\n",
    "        A<->B\n",
    "        A<->C\n",
    "'''\n",
    "graph={\n",
    "    'A':['B','C'],\n",
    "    'B':['A'],\n",
    "    'C':['A']\n",
    "}\n",
    "print(graph)        "
   ]
  },
  {
   "cell_type": "code",
   "execution_count": 7,
   "id": "42480b59",
   "metadata": {},
   "outputs": [
    {
     "name": "stdout",
     "output_type": "stream",
     "text": [
      "A->B->D\n",
      "A->C->D\n"
     ]
    }
   ],
   "source": [
    "#print all cities connected to A\n",
    "def all_paths(graph,start,end,path=[]):\n",
    "    path=path+[start]\n",
    "    if start==end:\n",
    "        print(\"->\".join(path))\n",
    "        return\n",
    "    for neighbor in graph[start]:\n",
    "        if neighbor not in path:\n",
    "            all_paths(graph,neighbor,end,path)\n",
    "\n",
    "#Test\n",
    "graph={\n",
    "    'A':['B','C'],\n",
    "    'B':['D'],\n",
    "    'C':['D'],\n",
    "    'D':[]\n",
    "} \n",
    "all_paths(graph,'A','D')           "
   ]
  },
  {
   "cell_type": "code",
   "execution_count": null,
   "id": "0c6670ab",
   "metadata": {},
   "outputs": [
    {
     "name": "stdout",
     "output_type": "stream",
     "text": [
      "A->B->D\n",
      "A->C->D\n"
     ]
    }
   ],
   "source": [
    "#print all paths from start to end\n",
    "def all_paths(graph,start,end,path=[]):\n",
    "    path=path+[start]\n",
    "    if start==end:\n",
    "        print(\"->\".join(path))\n",
    "        return\n",
    "    for i in graph[start]:\n",
    "        if i not in path:\n",
    "            all_paths(graph,i,end,path)\n",
    "\n",
    "#Test\n",
    "graph={\n",
    "'A':['B','C'],\n",
    "    'B':['D'],\n",
    "    'C':['D'],\n",
    "    'D':[  ]\n",
    "} \n",
    "all_paths(graph,'A','D')           "
   ]
  },
  {
   "cell_type": "code",
   "execution_count": 12,
   "id": "aece4999",
   "metadata": {},
   "outputs": [
    {
     "name": "stdout",
     "output_type": "stream",
     "text": [
      "A\n",
      "B\n",
      "C\n",
      "D\n",
      "E\n"
     ]
    }
   ],
   "source": [
    "from collections import deque\n",
    "def bfs(graph,start):\n",
    "    visited=set()\n",
    "    queue=deque([start])\n",
    "\n",
    "    while queue:\n",
    "        node=queue.popleft()\n",
    "        if node not in visited:\n",
    "            print(node)\n",
    "            visited.add(node)\n",
    "            for i in graph[node]:\n",
    "                queue.append(i)\n",
    "graph={\n",
    "    'A':['B','C'],\n",
    "    'B':['D'],\n",
    "    'C':['E'],\n",
    "    'D':[ ] ,\n",
    "    'E':[]  \n",
    "}\n",
    "\n",
    "bfs(graph,'A')"
   ]
  },
  {
   "cell_type": "code",
   "execution_count": null,
   "id": "de5f5944",
   "metadata": {},
   "outputs": [],
   "source": [
    "#DFS-Depth first search:\n",
    "\n",
    "def dfs(graph, start, visited=None):\n",
    "    if visited is None:\n",
    "        visited = set()\n",
    "    print(start)\n",
    "    visited.add(start)\n",
    "\n",
    "    for i in graph[start]:\n",
    "        if i not in visited:\n",
    "            dfs(graph, i, visited)  # recursion\n",
    "\n",
    "graph = {\n",
    "    'A': ['B', 'C'],\n",
    "    'B': ['D'],\n",
    "    'C': ['E'],\n",
    "    'D': [],\n",
    "    'E': []\n",
    "}\n",
    "\n",
    "dfs(graph, 'A')"
   ]
  },
  {
   "cell_type": "code",
   "execution_count": 1,
   "id": "96366060",
   "metadata": {},
   "outputs": [
    {
     "name": "stdout",
     "output_type": "stream",
     "text": [
      "{'A': ['B', 'C'], 'B': ['A', 'D'], 'C': ['A'], 'D': ['B']}\n"
     ]
    }
   ],
   "source": [
    "#Add edges\n",
    "def add_edge(graph,u,v):\n",
    "    if u not in graph:\n",
    "        graph[u]=[]\n",
    "    if v not in graph:\n",
    "        graph[v]=[]\n",
    "    graph[u].append(v)\n",
    "    graph[v].append(u)\n",
    "graph={}\n",
    "add_edge(graph,'A','B')\n",
    "add_edge(graph,'A','C')\n",
    "add_edge(graph,'B','D')\n",
    "\n",
    "print(graph)"
   ]
  },
  {
   "cell_type": "code",
   "execution_count": 2,
   "id": "f50dcb75",
   "metadata": {},
   "outputs": [
    {
     "name": "stdout",
     "output_type": "stream",
     "text": [
      "4\n"
     ]
    }
   ],
   "source": [
    "#Count Nodes in a graph using DFS:\n",
    "def count_nodes(graph,start,visited=None):\n",
    "    if visited is None:\n",
    "        visited=set()\n",
    "    visited.add(start)\n",
    "    count=1\n",
    "    for neighbor in graph[start]:\n",
    "        if neighbor not in visited:\n",
    "            count+=count_nodes(graph,neighbor,visited)\n",
    "    return count\n",
    "#Test\n",
    "graph={\n",
    "    'A':['B','C'],\n",
    "    'B':['D'],\n",
    "    'C':[],\n",
    "    'D':[]\n",
    "}\n",
    "print(count_nodes(graph,'A'))"
   ]
  },
  {
   "cell_type": "code",
   "execution_count": 4,
   "id": "73d42e57",
   "metadata": {},
   "outputs": [
    {
     "name": "stdout",
     "output_type": "stream",
     "text": [
      "True\n",
      "False\n"
     ]
    }
   ],
   "source": [
    "#check if path exits between two nodes(DFS)\n",
    "def has_path(graph,src,dst,visited=None):\n",
    "    if visited is None:\n",
    "        visited=set()\n",
    "    if src ==dst:\n",
    "        return True\n",
    "    visited.add(src)\n",
    "\n",
    "    for neighbor in graph [src]:\n",
    "        if neighbor not in visited:\n",
    "            if has_path(graph,neighbor,dst,visited):\n",
    "                return True\n",
    "            return False\n",
    "\n",
    "#Test\n",
    "graph={\n",
    "    'A':['B'],\n",
    "    'B':['C'],\n",
    "    'C':[],\n",
    "    'D':[]\n",
    "}\n",
    "print(has_path(graph,'A','C'))\n",
    "print(has_path(graph,'A','D'))"
   ]
  },
  {
   "cell_type": "code",
   "execution_count": 5,
   "id": "f70ca5d3",
   "metadata": {},
   "outputs": [
    {
     "name": "stdout",
     "output_type": "stream",
     "text": [
      "True\n"
     ]
    }
   ],
   "source": [
    "# Cycle Detection Code\n",
    "def has_cycle(g):\n",
    "    v = set()\n",
    "    def dfs(n, p):\n",
    "        v.add(n)\n",
    "        for i in g[n]:\n",
    "            if i not in v:\n",
    "                if dfs(i, n):\n",
    "                    return True\n",
    "            elif i != p:\n",
    "                return True\n",
    "        return False\n",
    "    for node in g:\n",
    "        if node not in v:\n",
    "            if dfs(node, None):\n",
    "                return True\n",
    "    return False\n",
    "\n",
    "graph = {\n",
    "    'A': ['B'],\n",
    "    'B': ['C'],\n",
    "    'C': ['A'],\n",
    "    'D': []\n",
    "}\n",
    "print(has_cycle(graph))"
   ]
  }
 ],
 "metadata": {
  "kernelspec": {
   "display_name": "Python 3",
   "language": "python",
   "name": "python3"
  },
  "language_info": {
   "codemirror_mode": {
    "name": "ipython",
    "version": 3
   },
   "file_extension": ".py",
   "mimetype": "text/x-python",
   "name": "python",
   "nbconvert_exporter": "python",
   "pygments_lexer": "ipython3",
   "version": "3.13.5"
  }
 },
 "nbformat": 4,
 "nbformat_minor": 5
}
