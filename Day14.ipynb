{
 "cells": [
  {
   "cell_type": "code",
   "execution_count": 20,
   "id": "541372ce",
   "metadata": {},
   "outputs": [
    {
     "name": "stdout",
     "output_type": "stream",
     "text": [
      "0.75\n"
     ]
    }
   ],
   "source": [
    "# probability - A chance \n",
    "\n",
    "# possibility of getting atleast one 'head' while tossing 2 coins.\n",
    "\n",
    "outcomes = ['hh', 'ht', 'th', 'tt']\n",
    "count = 0\n",
    "\n",
    "for i in range(len(outcomes)):\n",
    "    if 'h' in outcomes[i]:\n",
    "        count += 1\n",
    "\n",
    "total_outcome = len(outcomes)\n",
    "p_head = count / total_outcome\n",
    "\n",
    "print(p_head)"
   ]
  },
  {
   "cell_type": "code",
   "execution_count": null,
   "id": "4423c28f",
   "metadata": {},
   "outputs": [
    {
     "name": "stdout",
     "output_type": "stream",
     "text": [
      "0.8333333333333334\n",
      "0.25\n"
     ]
    }
   ],
   "source": [
    "# 100 days - 40 sunny, 60 rainy\n",
    "# 50 umbrella in rainy, 10 umbrella in sunny\n",
    "\n",
    "total_days = 100\n",
    "sunny_days = 40\n",
    "rainy_days = 60\n",
    "umbrella_sunny = 10\n",
    "umbrella_rainy = 50\n",
    "\n",
    "p_umbrella_given_sunny = umbrella_sunny / sunny_days    # formula -> p(A/B) = p(A n B) / p(A) \n",
    "p_umbrella_given_rainy = umbrella_rainy / rainy_days\n",
    "\n",
    "print(p_umbrella_given_rainy)\n",
    "print(p_umbrella_given_sunny)"
   ]
  },
  {
   "cell_type": "code",
   "execution_count": 10,
   "id": "5bf3d8fe",
   "metadata": {},
   "outputs": [
    {
     "name": "stdout",
     "output_type": "stream",
     "text": [
      "0.75\n",
      "22.5\n"
     ]
    }
   ],
   "source": [
    "# 100 students - 80% attend monday - 60 % in 80% attend tuesday\n",
    "\n",
    "total_std = 100\n",
    "mon_std = 80\n",
    "mon_tue_std = 60\n",
    "mon_tue_wed_std = 30\n",
    "\n",
    "p_tue_given_mon = mon_tue_std / mon_std\n",
    "p_wed_given_other = mon_tue_wed_std * p_tue_given_mon\n",
    "\n",
    "print(p_tue_given_mon)\n",
    "print(p_wed_given_other)\n"
   ]
  },
  {
   "cell_type": "code",
   "execution_count": null,
   "id": "750b64ec",
   "metadata": {},
   "outputs": [
    {
     "name": "stdout",
     "output_type": "stream",
     "text": [
      "0.75\n"
     ]
    }
   ],
   "source": [
    "# bayes theorem -> p(A/B) = p(B/A) * p(A) / p(B)\n",
    "\n",
    "# 100 mails - 40 spam, 60 non-spam\n",
    "\n",
    "spam = 40\n",
    "non_spam = 60\n",
    "\n",
    "# likehihood - keyword 'won' found in both spam & non_spam\n",
    "win_given_spam = 30 / 40\n",
    "win_given_not_spam = 10 / 60\n",
    "\n",
    "# total probability of getting 'won' keyword\n",
    "p_win = (win_given_spam * spam) + (win_given_not_spam * non_spam)\n",
    "\n",
    "# bayes' formula\n",
    "spam_given_win = (win_given_spam * spam) / p_win\n",
    "print(spam_given_win)"
   ]
  },
  {
   "cell_type": "code",
   "execution_count": 15,
   "id": "4e5a7d98",
   "metadata": {},
   "outputs": [
    {
     "name": "stdout",
     "output_type": "stream",
     "text": [
      "0.4000000000000001\n"
     ]
    }
   ],
   "source": [
    "# 20% rain, 80% doesn't rain, 80% cloudy_given_rain, 30% cloudy_give_no_rain\n",
    "# find rain_given_cloudy\n",
    "\n",
    "p_rain = 0.2\n",
    "p_no_rain = 0.8\n",
    "\n",
    "# likelihood -> cloudy in both case\n",
    "p_cloudy_given_rain = 0.8\n",
    "p_cloudy_given_no_rain = 0.3\n",
    "\n",
    "# total probability of being cloudy\n",
    "p_cloudy = (p_rain * p_cloudy_given_rain) + (p_no_rain * p_cloudy_given_no_rain)\n",
    "\n",
    "# bayes' formula\n",
    "p_rain_given_cloudy = (p_cloudy_given_rain * p_rain) / p_cloudy\n",
    "print(p_rain_given_cloudy)"
   ]
  }
 ],
 "metadata": {
  "kernelspec": {
   "display_name": ".venv-1 (3.12.3)",
   "language": "python",
   "name": "python3"
  },
  "language_info": {
   "codemirror_mode": {
    "name": "ipython",
    "version": 3
   },
   "file_extension": ".py",
   "mimetype": "text/x-python",
   "name": "python",
   "nbconvert_exporter": "python",
   "pygments_lexer": "ipython3",
   "version": "3.12.3"
  }
 },
 "nbformat": 4,
 "nbformat_minor": 5
}
