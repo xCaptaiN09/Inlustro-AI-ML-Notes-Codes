{
 "cells": [
  {
   "cell_type": "code",
   "execution_count": 20,
   "id": "5f4efe32",
   "metadata": {},
   "outputs": [
    {
     "name": "stdout",
     "output_type": "stream",
     "text": [
      "h\n",
      "---------------------------------------------------------------------------------------------------------------------------------------\n",
      "ell\n",
      "---------------------------------------------------------------------------------------------------------------------------------------\n",
      "o\n",
      "---------------------------------------------------------------------------------------------------------------------------------------\n",
      "ll\n",
      "---------------------------------------------------------------------------------------------------------------------------------------\n",
      "hlo\n",
      "---------------------------------------------------------------------------------------------------------------------------------------\n",
      "l\n",
      "---------------------------------------------------------------------------------------------------------------------------------------\n",
      "h\n",
      "e\n",
      "l\n",
      "l\n",
      "o\n"
     ]
    }
   ],
   "source": [
    "# Day - 18 - STRING\n",
    " \n",
    "# anagram\n",
    "a=\"hello\" #-anagram eg.(h,e,l,l,o) \n",
    "# slicing\n",
    "print((a[0]))\n",
    "print(\"---------------------------------------------------------------------------------------------------------------------------------------\")\n",
    "print(a[1:4])\n",
    "print(\"---------------------------------------------------------------------------------------------------------------------------------------\")\n",
    "print((a[-1]))\n",
    "print(\"---------------------------------------------------------------------------------------------------------------------------------------\")\n",
    "print((a[-3:-1]))\n",
    "print(\"---------------------------------------------------------------------------------------------------------------------------------------\")\n",
    "print((a[::2]))\n",
    "print(\"---------------------------------------------------------------------------------------------------------------------------------------\")\n",
    "print((a[2:4:3]))\n",
    "print(\"---------------------------------------------------------------------------------------------------------------------------------------\")\n",
    "\n",
    "for i in a:\n",
    "    print(i)\n",
    "\n"
   ]
  },
  {
   "cell_type": "code",
   "execution_count": null,
   "id": "5df90529",
   "metadata": {},
   "outputs": [],
   "source": [
    "# STRING METHODS\n",
    "\n",
    "''' \n",
    "-REPLACE()\n",
    "-UPPER()\n",
    "-LOWER()\n",
    "-SPLIT()\n",
    "-STRIP()\n",
    "-ISALPHA()\n",
    "-FIND()\n",
    "-JOIN()\n",
    "-COUNT()\n",
    "\n",
    "\n",
    "'''"
   ]
  },
  {
   "cell_type": "code",
   "execution_count": null,
   "id": "9c2c87d4",
   "metadata": {},
   "outputs": [
    {
     "name": "stdout",
     "output_type": "stream",
     "text": [
      "Hello godson\n",
      "HELLO HI\n",
      "hello hi\n",
      "['Hello', 'hi']\n",
      "Hello hi\n",
      "False\n",
      "2\n",
      "hHello hih\n",
      "2\n"
     ]
    }
   ],
   "source": [
    "a=\"Hello hi\"\n",
    "print(a.replace(\"hi\",\"godson\"))\n",
    "print(a.upper())\n",
    "print(a.lower())\n",
    "print(a.split())\n",
    "print(a.strip())\n",
    "print(a.isalpha())     #-to check its a  alphabetic value\n",
    "print(a.find(\"l\"))\n",
    "print(a.join(\"hh\"))   #to join\n",
    "print(a.count(\"l\"))\n"
   ]
  },
  {
   "cell_type": "code",
   "execution_count": 44,
   "id": "200130e3",
   "metadata": {},
   "outputs": [
    {
     "name": "stdout",
     "output_type": "stream",
     "text": [
      "Fizz Buzzzzzzzzzzzzzzzzzzzzzz\n"
     ]
    }
   ],
   "source": [
    "# DIVISIBLE QN\n",
    "\n",
    "num=int(input(\"enter the nu:\"))\n",
    "\n",
    "if num % 3==0 and num%5==0:\n",
    "    print(\"Fizz Buzzzzzzzzzzzzzzzzzzzzzz\")\n",
    "elif num%3==0 and num%5!=0:\n",
    "    print(\"Fizzzzzzzzzzzzzzzzzzz\")\n",
    "elif num%5==0 and num%3!=0:\n",
    "    print(\"Buzzzzzzzzzzzzzzzzzzzzzzzzzzz\")\n",
    "else:\n",
    "    print(\"ivalid\")\n"
   ]
  },
  {
   "cell_type": "code",
   "execution_count": null,
   "id": "8825524d",
   "metadata": {},
   "outputs": [
    {
     "name": "stdout",
     "output_type": "stream",
     "text": [
      "fun are structures data\n"
     ]
    }
   ],
   "source": [
    "#  REVERSING A STRING\n",
    "\n",
    "a=\"data structures are fun\"\n",
    "print(' '.join(a.split()[::-1]))\n",
    "#for i in c:\n",
    "    #print(join.i)"
   ]
  },
  {
   "cell_type": "code",
   "execution_count": 7,
   "id": "95483d72",
   "metadata": {},
   "outputs": [
    {
     "name": "stdout",
     "output_type": "stream",
     "text": [
      "godson abhi\n",
      "aaaaaaaaaaaaaaaaaaaaaaaaaaaaaaaaaaaaaaaaaaaaaaaaaaaaaaaaaaaaaaaaaaaaaaaaaaaaaaaaaaaaaaaaaaaaaaaaaaaaaaaaaaaaaaaaaaaaaaaaaaaaaaaaaaaaaaaaaaaaaaaaaaaaaaaaaaaaaaaaaaaaaaaaaaaaaaaaaaaaaaaaaaaaaaaaaaaaaaaaaaaaaaaaaaaaaaaaaaaaaaaaaaaaaaaaaaaaaaaaaaaaaaaaaaaaaaaaaaaaaaaaaaaaaaaaaaaaaaaaaaaaaaaaaaaaaaaaaaaaaaaaaaaaaaaaaaaaaaaaaaaaaaaaaaaaaaaaaaaaaaaaaaaaaaaaaaaaaaaaaaaaaaaaaaaaaaaaaaaaaaaaaaaaaaaaaaaaaaaaaaaaaaaaaaaaaaaaaaaaaaaaaaaaaaaaaaaaaaaaaaaaaaaaaaaaaaaaaaaaaaaaaaaaaaaaaaaaaaaaaaaaaaaaaaaaaaaaaaaaaaaaaaaaaaaaaaaaaaaaaaaaaaaaaaaaaaaaaaaaaaaaaaaaaaaaaaaaaaaaaaaaaaaaaaaaaaaaaaaaaaaaaaaaaaaaaaaaaaaaaaaaaaaaaaaaaaaaaaaaaaaaaaaaaaaaaaaaaaaaaaaaaaaaaaaaaaaaaaaaaaaaaaaaaaaaaaaaaaaaaaaaaaaaaaaaaaaaaaaaaaaaaaaaaaaaaaaaaaaaaaaaaaaaaaaaaaaaaaaaaaaaaaaaaaaaaaaaaaaaaaaaaaaaaaaaaaaaaaaaaaaaaaaaaaaaaaaaaaaaaaaaaaaaaaaaaaaaaaaaaaaaaaaaaaaaaaaaaaaaaaaaaaaaaaaaaaaaaaaaaaaaaaaaaaaaaaaaaaaaaaaaaaaaaaaaaaaaaaaaaaaaaaaaaaaaaaaaaaaaaaaaaaaaaaaaaaaaaaaaaaaaaaaaaaaaaaaaaaaaaaaaaaaaaaaaaaaaaaaaaaaaaaaaaaaaaaaaaaaa\n",
      "aaaaaaaaaaaaaaaaaaaaaaaaaaaaaaaaaaaaaaaaaaaaaaaaaaaaaaaaaaaaaaaaaaaaaaaaaaaaaaaaaaaaaaaaaaaaaaaaaaaaaaaaaaaaaaaaaaaaaaaaaaaaaaaaaaaaaaaaaaaaaaaaaaaaaaaaaaaaaaaaaaaaaaaaaaaaaaaaaaaaaaaaaaaaaaaaaaaaaaaaaaaaaaaaaaaaaaaaaaaaaaaaaaaaaaaaaaaaaaaaaaaaaaaaaaaaaaaaaaaaaaaaaaaaaaaaaaaaaaaaaaaaaaaaaaaaaaaaaaaaaaaaaaaaaaaaaaaaaaaaaaaaaaaaaaaaaaaaaaaaaaaaaaaaaaaaaaaaaaaaaaaaaaaaaaaaaaaaaaaaaaaaaaaaaaaaaaaaaaaaaaaaaaaaaaaaaaaaaaaaaaaaaaaaaaaaaaaaaaaaaaaaaaaaaaaaaaaaaaaaaaaaaaaaaaaaaaaaaaaaaaaaaaaaaaaaaaaaaaaaaaaaaaaaaaaaaaaaaaaaaaaaaaaaaaaaaaaaaaaaaaaaaaaaaaaaaaaaaaaaaaaaaaaaaaaaaaaaaaaaaaaaaaaaaaaaaaaaaaaaaaaaaaaaaaaaaaaaaaaaaaaaaaaaaaaaaaaaaaaaaaaaaaaaaaaaaaaaaaaaaaaaaaaaaaaaaaaaaaaaaaaaaaaaaaaaaaaaaaaaaaaaaaaaaaaaaaaaaaaaaaaaaaaaaaaaaaaaaaaaaaaaaaaaaaaaaaaaaaaaaaaaaaaaaaaaaaaaaaaaaaaaaaaaaaaaaaaaaaaaaaaaaaaaaaaaaaaaaaaaaaaaaaaaaaaaaaaaaaaaaaaaaaaaaaaaaaaaaaaaaaaaaaaaaaaaaaaaaaaaaaaaaaaaaaaaaaaaaaaaaaaaaaaaaaaaaaaaaaaaaaaaaaaaaaaaaaaaaaaaaaaaaaaaaaaaaaaaaaaaaaaaaaaaaaaaaaaaaaaaaaaaaaaaaaaaaaaaaaaa\n"
     ]
    }
   ],
   "source": [
    "a=\"godson\"\n",
    "b=\"abhi\"\n",
    "\n",
    "c=a+\" \"+b\n",
    "print(c)\n",
    "\n",
    "\n",
    "# +=  -> it will show \n",
    "\n",
    "s=\"\"\n",
    "for i in range(1000):\n",
    "    s+=\"a\"\n",
    "print(s)\n",
    "\n",
    "s=[]\n",
    "for i in range(1000):\n",
    "    s.append(\"a\")\n",
    "    char=\"\".join(s)\n",
    "print(char)\n"
   ]
  },
  {
   "cell_type": "code",
   "execution_count": 8,
   "id": "ad2fca1b",
   "metadata": {},
   "outputs": [
    {
     "name": "stdout",
     "output_type": "stream",
     "text": [
      "True\n",
      "True\n"
     ]
    }
   ],
   "source": [
    "a=\"abc\"\n",
    "b=\"abc\"\n",
    "print(a==b)\n",
    "print(a is b)"
   ]
  },
  {
   "cell_type": "code",
   "execution_count": null,
   "id": "6e966fb9",
   "metadata": {},
   "outputs": [],
   "source": [
    "# string also immutable\n",
    "# mostly it avoids += operator\n",
    "\n",
    "\n",
    "\n",
    "\n",
    "# SUBSTRING - a sequence of characters with in a string \n",
    "\n",
    "s=\"abc\"  #a,b,c,ab,bc,ac\n",
    "\n",
    "\n",
    "\n",
    "\n",
    "# BLUE FORCE ALGORITHM-using 2 for loops\n",
    "# first loop i=0\n",
    "# second j=1 ->[0:1] - a\n",
    "# j=2 ->[0:3]- a,b,c\n",
    "\n",
    "# i=1..........\n",
    "\n",
    "#j=1 - [1:1]  - no\n",
    "# j=2  - [1:2] - b\n",
    "\n",
    "\n"
   ]
  },
  {
   "cell_type": "code",
   "execution_count": 9,
   "id": "c7cc6f25",
   "metadata": {},
   "outputs": [
    {
     "name": "stdout",
     "output_type": "stream",
     "text": [
      "a\n",
      "ab\n",
      "abc\n",
      "b\n",
      "bc\n",
      "c\n"
     ]
    }
   ],
   "source": [
    "s=\"abc\"\n",
    "n=len(s)\n",
    "for i in range(n):\n",
    "    for j in range(i+1,n+1):\n",
    "        print(s[i:j])\n"
   ]
  },
  {
   "cell_type": "code",
   "execution_count": 12,
   "id": "603abd93",
   "metadata": {},
   "outputs": [
    {
     "data": {
      "text/plain": [
       "6"
      ]
     },
     "execution_count": 12,
     "metadata": {},
     "output_type": "execute_result"
    }
   ],
   "source": [
    "# palimdrome cheking\n",
    "\n",
    "def palindrome(s):\n",
    "    count=0\n",
    "    n=len(s)\n",
    "\n",
    "    for i in range(n):\n",
    "        for j in range(i+1,n+1):\n",
    "            if s[i:j]==s[i:j][::-1]:\n",
    "                count+=1\n",
    "    return count\n",
    "palindrome(\"abba\")\n",
    "\n",
    "\n",
    "# first i=0, then j values will be 1,2,3,4\n",
    "# [0:1] - a - a\n",
    "# [0:2] -ab -ba\n",
    "# [0:3] - abb - bba\n",
    "# [0:4] - abba - abba\n",
    "\n",
    "\n",
    "# secound i=1, then j=1,2,3,4\n",
    "# [1:1] - 0\n",
    "# [1:2] - b - b\n",
    "# [1:3] - bb - bb\n",
    "# [1:4] - bba - abb\n",
    "\n",
    "\n",
    "\n",
    "\n"
   ]
  },
  {
   "cell_type": "code",
   "execution_count": null,
   "id": "24198e1f",
   "metadata": {},
   "outputs": [],
   "source": [
    "# methods of substrings \n",
    "\n",
    "''' \n",
    "- sliding window\n",
    "- prefix sums for strings\n",
    "- Rolling hash\n",
    "'''\n",
    "\n"
   ]
  },
  {
   "cell_type": "code",
   "execution_count": 17,
   "id": "ec91185d",
   "metadata": {},
   "outputs": [
    {
     "data": {
      "text/plain": [
       "3"
      ]
     },
     "execution_count": 17,
     "metadata": {},
     "output_type": "execute_result"
    }
   ],
   "source": [
    "# Longest substring without repeating\n",
    "\n",
    "# input - \"abcabcbb\"\n",
    "\n",
    "def l_s(s):\n",
    "\n",
    "    max_l=0\n",
    "\n",
    "    n=len(s)\n",
    "    for i in range(n):\n",
    "        seen=set()\n",
    "        for j in range(i,n):\n",
    "            if s[j] in seen:\n",
    "                break\n",
    "            seen.add(s[j])\n",
    "            max_l=max(max_l,j-i+1)\n",
    "    return max_l\n",
    "l_s(\"abcabcbb\")"
   ]
  },
  {
   "cell_type": "code",
   "execution_count": 3,
   "id": "19dce224",
   "metadata": {},
   "outputs": [
    {
     "name": "stdout",
     "output_type": "stream",
     "text": [
      "['a', 'a', 'a', 'g', 'm', 'n', 'r']\n"
     ]
    },
    {
     "ename": "AttributeError",
     "evalue": "'str' object has no attribute 'sort'",
     "output_type": "error",
     "traceback": [
      "\u001b[31m---------------------------------------------------------------------------\u001b[39m",
      "\u001b[31mAttributeError\u001b[39m                            Traceback (most recent call last)",
      "\u001b[36mCell\u001b[39m\u001b[36m \u001b[39m\u001b[32mIn[3]\u001b[39m\u001b[32m, line 5\u001b[39m\n\u001b[32m      2\u001b[39m b=\u001b[33m\"\u001b[39m\u001b[33mnagaram\u001b[39m\u001b[33m\"\u001b[39m\n\u001b[32m      4\u001b[39m \u001b[38;5;28mprint\u001b[39m(\u001b[38;5;28msorted\u001b[39m(a))\n\u001b[32m----> \u001b[39m\u001b[32m5\u001b[39m \u001b[43mb\u001b[49m\u001b[43m.\u001b[49m\u001b[43msort\u001b[49m()\n",
      "\u001b[31mAttributeError\u001b[39m: 'str' object has no attribute 'sort'"
     ]
    }
   ],
   "source": [
    "a=\"anagram\"\n",
    "b=\"nagaram\"\n",
    "\n",
    "print(sorted(a))\n",
    "b.sort()"
   ]
  }
 ],
 "metadata": {
  "kernelspec": {
   "display_name": "Python 3",
   "language": "python",
   "name": "python3"
  },
  "language_info": {
   "codemirror_mode": {
    "name": "ipython",
    "version": 3
   },
   "file_extension": ".py",
   "mimetype": "text/x-python",
   "name": "python",
   "nbconvert_exporter": "python",
   "pygments_lexer": "ipython3",
   "version": "3.12.5"
  }
 },
 "nbformat": 4,
 "nbformat_minor": 5
}
