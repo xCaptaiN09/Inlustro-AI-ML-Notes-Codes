{
 "cells": [
  {
   "cell_type": "code",
   "execution_count": null,
   "id": "a3971d87",
   "metadata": {},
   "outputs": [
    {
     "name": "stdout",
     "output_type": "stream",
     "text": [
      "6\n"
     ]
    }
   ],
   "source": [
    "# factorial\n",
    "\n",
    "def fact(n):\n",
    "    if (n == 0 or n == 1):\n",
    "        return 1\n",
    "    elif (n > 1):\n",
    "        return n * fact(n-1)\n",
    "    \n",
    "print(fact(3))\n"
   ]
  },
  {
   "cell_type": "code",
   "execution_count": 1,
   "id": "3bbff701",
   "metadata": {},
   "outputs": [
    {
     "name": "stdout",
     "output_type": "stream",
     "text": [
      "720\n"
     ]
    }
   ],
   "source": [
    "def fact(n):\n",
    "    result = 1\n",
    "    if n == 1:\n",
    "        return result\n",
    "    elif n > 1:\n",
    "        for i in range(1, n+1):\n",
    "            result *= i\n",
    "        return result\n",
    "    else:\n",
    "        print('Error!')\n",
    "\n",
    "print(fact(6))"
   ]
  },
  {
   "cell_type": "code",
   "execution_count": 6,
   "id": "4e1bd216",
   "metadata": {},
   "outputs": [
    {
     "data": {
      "text/plain": [
       "21"
      ]
     },
     "execution_count": 6,
     "metadata": {},
     "output_type": "execute_result"
    }
   ],
   "source": [
    "# fibonacci series\n",
    "\n",
    "def fibo(n):\n",
    "    if n == 0 or n == 1:\n",
    "        return n\n",
    "    elif n < 0:\n",
    "        print('Error!')\n",
    "    else:\n",
    "        for i in range(n):\n",
    "            return fibo(n-1) + fibo(n-2)\n",
    "\n",
    "fibo(8)\n",
    "\n",
    "\n",
    "# 0 1 1 2 3 5 8 13 21"
   ]
  },
  {
   "cell_type": "code",
   "execution_count": 32,
   "id": "3c77450d",
   "metadata": {},
   "outputs": [
    {
     "name": "stdout",
     "output_type": "stream",
     "text": [
      "8\n"
     ]
    }
   ],
   "source": [
    "def fibo(n):\n",
    "    if n >= 0:\n",
    "        result = [0] * (n+1)\n",
    "        result[0] = 0\n",
    "        if n > 0:\n",
    "            result[1] = 1\n",
    "        for i in range(2, n+1):\n",
    "                result[i] = result[i-1] + result[i-2]\n",
    "        return result[n]\n",
    "    else:\n",
    "        print(f'Error!')\n",
    "\n",
    "print(fibo(6))"
   ]
  },
  {
   "cell_type": "code",
   "execution_count": null,
   "id": "777e0c15",
   "metadata": {},
   "outputs": [
    {
     "name": "stdout",
     "output_type": "stream",
     "text": [
      "11\n"
     ]
    }
   ],
   "source": [
    "# sum of digits\n",
    "\n",
    "def sum_of_digits(n):\n",
    "    dsum = 0\n",
    "    for i in range(len(str(n))):\n",
    "        if n > 0:\n",
    "            dsum += n % 10\n",
    "            n = n // 10\n",
    "    return dsum\n",
    "\n",
    "print(sum_of_digits(29))"
   ]
  },
  {
   "cell_type": "code",
   "execution_count": 38,
   "id": "6de5c404",
   "metadata": {},
   "outputs": [
    {
     "name": "stdout",
     "output_type": "stream",
     "text": [
      "2\n"
     ]
    }
   ],
   "source": [
    "def sum_of_digits(n):\n",
    "    if n == 0:\n",
    "        return 0\n",
    "    return (n % 10) + sum_of_digits(n//10)\n",
    "\n",
    "print(sum_of_digits(20))"
   ]
  },
  {
   "cell_type": "code",
   "execution_count": 50,
   "id": "b1a39374",
   "metadata": {},
   "outputs": [
    {
     "data": {
      "text/plain": [
       "6"
      ]
     },
     "execution_count": 50,
     "metadata": {},
     "output_type": "execute_result"
    }
   ],
   "source": [
    "# count stack of coins -> can only remove one at a time\n",
    "\n",
    "def count_coin(arr):\n",
    "    if not arr:\n",
    "        return 0\n",
    "    return 1 + count_coin(arr[1:])\n",
    "\n",
    "\n",
    "coin_stack = [2, 2, 1, 5, 10, 5]\n",
    "count_coin(coin_stack)"
   ]
  },
  {
   "cell_type": "code",
   "execution_count": 54,
   "id": "aacb4b7d",
   "metadata": {},
   "outputs": [
    {
     "data": {
      "text/plain": [
       "'\\nfolder_1\\n    file_1.txt - 10 mb\\n    folder_2\\n        file_2.txt - 30 mb\\n        file_3.txt - 40 mb\\n    file_4.txt - 20 mb\\n'"
      ]
     },
     "execution_count": 54,
     "metadata": {},
     "output_type": "execute_result"
    }
   ],
   "source": [
    "'''\n",
    "folder_1\n",
    "    file_1.txt - 10 mb\n",
    "    folder_2\n",
    "        file_2.txt - 30 mb\n",
    "        file_3.txt - 40 mb\n",
    "    file_4.txt - 20 mb\n",
    "'''\n",
    "# expected output -> 100 mb"
   ]
  },
  {
   "cell_type": "code",
   "execution_count": 60,
   "id": "936d209c",
   "metadata": {},
   "outputs": [
    {
     "name": "stdout",
     "output_type": "stream",
     "text": [
      "100\n"
     ]
    }
   ],
   "source": [
    "file = {\n",
    "    \"file1.txt\" : 10, \n",
    "    \"subfolder\" : {\n",
    "        \"file2.txt\" : 30, \n",
    "        \"file3.txt\" : 40,\n",
    "    },\n",
    "    \"file4.txt\" : 20\n",
    "}\n",
    "\n",
    "def folder_name(folder):\n",
    "    total = 0\n",
    "    for key, values in folder.items():\n",
    "        if isinstance(values, dict):\n",
    "            total += folder_name(values)\n",
    "        else:\n",
    "            total += values\n",
    "    return total\n",
    "    \n",
    "x = folder_name(file)\n",
    "print(x)"
   ]
  },
  {
   "cell_type": "code",
   "execution_count": null,
   "id": "d453f1f3",
   "metadata": {},
   "outputs": [
    {
     "data": {
      "text/plain": [
       "'\"\\nfunction  backtracking(state):\\n    if state is a solution:\\n        return state (#Base case)\\n    for choice in all possible choices:\\n        if choice is valid:\\n        make choice\\n        result = backtracking (state with choice)\\n        if result is not failure:\\n            return result\\n        undo choice\\n    return failure\\n'"
      ]
     },
     "execution_count": 61,
     "metadata": {},
     "output_type": "execute_result"
    }
   ],
   "source": [
    "# Backtracking, \n",
    "# choice, explore, backtrack\n",
    "\n",
    "# pseudo code\n",
    "\"\"\"\"\n",
    "function  backtracking(state):\n",
    "    if state is a solution:\n",
    "        return state (#Base case)\n",
    "    for choice in all possible choices:\n",
    "        if choice is valid:\n",
    "        make choice\n",
    "        result = backtracking (state with choice)\n",
    "        if result is not failure:\n",
    "            return result\n",
    "        undo choice\n",
    "    return failure\n",
    "\"\"\"\n"
   ]
  },
  {
   "cell_type": "code",
   "execution_count": null,
   "id": "957e4451",
   "metadata": {},
   "outputs": [
    {
     "ename": "TypeError",
     "evalue": "pin_number() takes 3 positional arguments but 4 were given",
     "output_type": "error",
     "traceback": [
      "\u001b[31m---------------------------------------------------------------------------\u001b[39m",
      "\u001b[31mTypeError\u001b[39m                                 Traceback (most recent call last)",
      "\u001b[36mCell\u001b[39m\u001b[36m \u001b[39m\u001b[32mIn[63]\u001b[39m\u001b[32m, line 17\u001b[39m\n\u001b[32m     15\u001b[39m digits = [\u001b[32m1\u001b[39m, \u001b[32m2\u001b[39m, \u001b[32m3\u001b[39m]\n\u001b[32m     16\u001b[39m used = [\u001b[38;5;28;01mFalse\u001b[39;00m] * \u001b[38;5;28mlen\u001b[39m(digits)\n\u001b[32m---> \u001b[39m\u001b[32m17\u001b[39m \u001b[43mpin_number\u001b[49m\u001b[43m(\u001b[49m\u001b[43m[\u001b[49m\u001b[43m]\u001b[49m\u001b[43m,\u001b[49m\u001b[43m \u001b[49m\u001b[43mdigits\u001b[49m\u001b[43m,\u001b[49m\u001b[43m \u001b[49m\u001b[43mused\u001b[49m\u001b[43m,\u001b[49m\u001b[43m \u001b[49m\u001b[43mresult\u001b[49m\u001b[43m)\u001b[49m\n",
      "\u001b[31mTypeError\u001b[39m: pin_number() takes 3 positional arguments but 4 were given"
     ]
    }
   ],
   "source": [
    "def pin_number(path, digits, used, result):\n",
    "    # Base case: if the path is a full permutation, add it to result\n",
    "    if len(path) == len(digits):\n",
    "        result.append(path.copy())  # Store a copy to avoid later mutation\n",
    "        return\n",
    "\n",
    "    # Loop through all digits to build permutations\n",
    "    for i in range(len(digits)):\n",
    "        if not used[i]:\n",
    "            used[i] = True           # Mark the digit as used\n",
    "            path.append(digits[i])   # Choose the digit\n",
    "            pin_number(path, digits, used, result)  # Explore further\n",
    "            path.pop()               # Undo the choice (backtrack)\n",
    "            used[i] = False          # Unmark the digit\n",
    "\n",
    "# Setup\n",
    "result = []\n",
    "digits = [1, 2, 3]\n",
    "used = [False] * len(digits)\n",
    "\n",
    "# Call the function\n",
    "pin_number([], digits, used, result)\n",
    "\n",
    "# Output the result\n",
    "print(\"All possible PINs:\")\n",
    "for pin in result:\n",
    "    print(pin)\n"
   ]
  },
  {
   "cell_type": "code",
   "execution_count": null,
   "id": "cea49cff",
   "metadata": {},
   "outputs": [],
   "source": []
  }
 ],
 "metadata": {
  "kernelspec": {
   "display_name": ".venv-1 (3.12.3)",
   "language": "python",
   "name": "python3"
  },
  "language_info": {
   "codemirror_mode": {
    "name": "ipython",
    "version": 3
   },
   "file_extension": ".py",
   "mimetype": "text/x-python",
   "name": "python",
   "nbconvert_exporter": "python",
   "pygments_lexer": "ipython3",
   "version": "3.12.3"
  }
 },
 "nbformat": 4,
 "nbformat_minor": 5
}
