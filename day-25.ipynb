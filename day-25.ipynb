{
 "cells": [
  {
   "cell_type": "code",
   "execution_count": null,
   "id": "e33ca6d1",
   "metadata": {},
   "outputs": [],
   "source": [
    "''' \n",
    "    first solve the smallest problem solve pannu (eg. floor 0, floor 1)\n",
    "    store answer in list/ table.\n",
    "    build bigger answers from small answers.\n",
    "    this is tabulation (bottom-up)\n",
    "    \n",
    "'''"
   ]
  },
  {
   "cell_type": "code",
   "execution_count": null,
   "id": "1629a9c0",
   "metadata": {},
   "outputs": [],
   "source": [
    "'''\n",
    "    in 1D DP, the state depended on a single index (like dp[i] for climbing stairs).\n",
    "    in 2D DP, the state depends on two indices - typically i (rows) and j (column).\n",
    "'''"
   ]
  },
  {
   "cell_type": "code",
   "execution_count": null,
   "id": "d10b0661",
   "metadata": {},
   "outputs": [],
   "source": [
    "''' \n",
    "    dp[i][j] -> some computed value for cell (i, j) in a table/ grid.\n",
    "    example: \n",
    "        for counting paths -> number of ways to reach (i, j).\n",
    "        for min path -> minimum sum to reach (i, j)\n",
    "'''"
   ]
  },
  {
   "cell_type": "code",
   "execution_count": null,
   "id": "91663ff4",
   "metadata": {},
   "outputs": [],
   "source": [
    "#we have a robot starting at (0, 0), can move right or down.\n",
    "''' \n",
    "    transition formula\n",
    "    dp[i][j] = dp[i - 1][j] + dp[i][j - 1]\n",
    "        dp[i - 1][j]: ways from above\n",
    "        dp[i][j - 1]: ways from left\n",
    "    \n",
    "'''"
   ]
  },
  {
   "cell_type": "code",
   "execution_count": 7,
   "id": "89fc17e9",
   "metadata": {},
   "outputs": [
    {
     "name": "stdout",
     "output_type": "stream",
     "text": [
      "D D R R \n",
      "R R D D \n"
     ]
    }
   ],
   "source": [
    "def find(x, y, path):   #right, down\n",
    "    if x == 2 and y == 2:\n",
    "        print(path)  #x - down\n",
    "                     #y - right\n",
    "        return \n",
    "    if x + 1 <= 2 and grid[x + 1][y] == 0:\n",
    "        find(x + 1, y, path + \"D \")\n",
    "    if y + 1 <= 2 and grid[x][y + 1] == 0:\n",
    "        find(x, y + 1, path + \"R \")\n",
    "grid = [\n",
    "      \n",
    "    [0, 0, 0],\n",
    "    [0, 1, 0],\n",
    "    [0, 0, 0]\n",
    "]\n",
    "\n",
    "find(0, 0, \"\")"
   ]
  },
  {
   "cell_type": "code",
   "execution_count": 19,
   "id": "ebe06580",
   "metadata": {},
   "outputs": [
    {
     "name": "stdout",
     "output_type": "stream",
     "text": [
      "D D r r  \n",
      "\n",
      "r r D D  \n",
      "\n"
     ]
    }
   ],
   "source": [
    "def find(x, y, path, memo):\n",
    "    #if destination reached\n",
    "    if x == 2 and y == 2:\n",
    "        return [path] #base case\n",
    "    if(x, y, path) in memo:\n",
    "        return memo[(x, y, path)]\n",
    "    paths = []\n",
    "\n",
    "    #move down\n",
    "    if x + 1 <= 2 and grid[x + 1][y] == 0:\n",
    "        paths += find(x + 1, y, path + \"D \", memo)\n",
    "    \n",
    "    #move right\n",
    "    if y + 1 <= 2 and grid[x][y + 1] == 0:\n",
    "        paths += find(x, y + 1, path + \"r \", memo)\n",
    "    memo[(x, y, path)] = paths\n",
    "    return paths\n",
    "\n",
    "grid = [\n",
    "      \n",
    "    [0, 0, 0],\n",
    "    [0, 1, 0],\n",
    "    [0, 0, 0]\n",
    "]\n",
    "\n",
    "result = find(0, 0, \"\", {})\n",
    "for r in result:\n",
    "    print(r,\"\\n\")\n"
   ]
  },
  {
   "cell_type": "code",
   "execution_count": null,
   "id": "2e9cb6a3",
   "metadata": {},
   "outputs": [],
   "source": [
    "#you are in the top-left of a grid (0, 0). you can move only right "
   ]
  },
  {
   "cell_type": "code",
   "execution_count": 18,
   "id": "beaadd71",
   "metadata": {},
   "outputs": [
    {
     "name": "stdout",
     "output_type": "stream",
     "text": [
      "D D R R \n",
      "D R D R \n",
      "D R R D \n",
      "R D D R \n",
      "R D R D \n",
      "R R D D \n"
     ]
    }
   ],
   "source": [
    "def find(x, y, path, memo):\n",
    "    #if destination reached\n",
    "    if x == 2 and y == 2:\n",
    "        return [path] #base case\n",
    "    if(x, y, path) in memo:\n",
    "        return memo[(x, y, path)]\n",
    "    paths = []\n",
    "\n",
    "    #move down\n",
    "    if x + 1 <= 2 and grid[x + 1][y] == 0:\n",
    "        paths += find(x + 1, y, path + \"D \", memo)\n",
    "    \n",
    "    #move right\n",
    "    if y + 1 <= 2 and grid[x][y + 1] == 0:\n",
    "        paths += find(x, y + 1, path + \"R \", memo)\n",
    "    memo[(x, y, path)] = paths\n",
    "    return paths\n",
    "\n",
    "grid = [\n",
    "      \n",
    "    [0, 0, 0],\n",
    "    [0, 0, 0],\n",
    "    [0, 0, 0]\n",
    "]\n",
    "\n",
    "result = find(0, 0, \"\",{})\n",
    "for r in result:\n",
    "    print(r)\n"
   ]
  },
  {
   "cell_type": "code",
   "execution_count": 20,
   "id": "0f813e7a",
   "metadata": {},
   "outputs": [
    {
     "name": "stdout",
     "output_type": "stream",
     "text": [
      "D D R R \n",
      "D R D R \n",
      "D R R D \n",
      "R D D R \n",
      "R D R D \n",
      "R R D D \n"
     ]
    }
   ],
   "source": [
    "def find(x, y, path):   #right, down\n",
    "    if x == 2 and y == 2:\n",
    "        print(path)  #x - down\n",
    "                     #y - right\n",
    "        return \n",
    "    if x + 1 <= 2 and grid[x + 1][y] >= 0:\n",
    "        find(x + 1, y, path + \"D \")\n",
    "    if y + 1 <= 2 and grid[x][y + 1] >= 0:\n",
    "        find(x, y + 1, path + \"R \")\n",
    "grid = [\n",
    "      \n",
    "    [1, 2, 3],\n",
    "    [4, 5, 6],\n",
    "    [7, 8, 9]\n",
    "]\n",
    "\n",
    "find(0, 0, \"\")"
   ]
  },
  {
   "cell_type": "code",
   "execution_count": 21,
   "id": "a8f96116",
   "metadata": {},
   "outputs": [
    {
     "name": "stdout",
     "output_type": "stream",
     "text": [
      "D D R R \n",
      "D R D R \n",
      "D R R D \n",
      "R D D R \n",
      "R D R D \n",
      "R R D D \n"
     ]
    }
   ],
   "source": [
    "def find(x, y, path):   #right, down\n",
    "    if x == 2 and y == 2:\n",
    "        print(path)  #x - down\n",
    "                     #y - right\n",
    "        return \n",
    "    if x + 1 <= 2 and grid[x + 1][y] != 0:\n",
    "        find(x + 1, y, path + \"D \")\n",
    "    if y + 1 <= 2 and grid[x][y + 1] != 0:\n",
    "        find(x, y + 1, path + \"R \")\n",
    "grid = [\n",
    "      \n",
    "    [1, 2, 3],\n",
    "    [4, 5, 6],\n",
    "    [7, 8, 9]\n",
    "]\n",
    "\n",
    "find(0, 0, \"\")"
   ]
  },
  {
   "cell_type": "code",
   "execution_count": 26,
   "id": "6c2d72fb",
   "metadata": {},
   "outputs": [
    {
     "name": "stdout",
     "output_type": "stream",
     "text": [
      "D D R R \n",
      "D R D R \n",
      "D R R D \n",
      "R D D R \n",
      "R D R D \n",
      "R R D D \n"
     ]
    },
    {
     "data": {
      "text/plain": [
       "6"
      ]
     },
     "execution_count": 26,
     "metadata": {},
     "output_type": "execute_result"
    }
   ],
   "source": [
    "def find(x, y, path):   #right, down\n",
    "\n",
    "    if x == 2 and y == 2:\n",
    "        print(path)  #x - down\n",
    "                     #y - right\n",
    "        return 1\n",
    "    \n",
    "    count = 0\n",
    "    if x + 1 <= 2 and grid[x + 1][y] >= 0:\n",
    "        count += find(x + 1, y, path + \"D \")\n",
    "    if y + 1 <= 2 and grid[x][y + 1] >= 0:\n",
    "        count += find(x, y + 1, path + \"R \")\n",
    "\n",
    "    return count\n",
    "grid = [\n",
    "    [1, 2, 3],\n",
    "    [4, 5, 6],\n",
    "    [7, 8, 9]\n",
    "]\n",
    "\n",
    "find(0, 0, \"\")\n"
   ]
  },
  {
   "cell_type": "code",
   "execution_count": null,
   "id": "7b494e03",
   "metadata": {},
   "outputs": [],
   "source": []
  }
 ],
 "metadata": {
  "kernelspec": {
   "display_name": "Python 3",
   "language": "python",
   "name": "python3"
  },
  "language_info": {
   "codemirror_mode": {
    "name": "ipython",
    "version": 3
   },
   "file_extension": ".py",
   "mimetype": "text/x-python",
   "name": "python",
   "nbconvert_exporter": "python",
   "pygments_lexer": "ipython3",
   "version": "3.11.9"
  }
 },
 "nbformat": 4,
 "nbformat_minor": 5
}
