{
 "cells": [
  {
   "cell_type": "code",
   "execution_count": 12,
   "id": "787f4bb8",
   "metadata": {},
   "outputs": [
    {
     "name": "stdout",
     "output_type": "stream",
     "text": [
      "5\n",
      "1\n",
      "2\n"
     ]
    }
   ],
   "source": [
    "# numpy - numerical python\n",
    "# pythorch \n",
    "import numpy as np\n",
    "scalar = 5\n",
    "vector = np.array([1,2,3,4,5])\n",
    "matrix = np.matrix([[1,2],[3,4]])\n",
    "# print(scalar)\n",
    "# print(vector.shape)\n",
    "# print(matrix.shape)\n",
    "\n",
    "# print(scalar)\n",
    "# print(vector)\n",
    "# print(matrix)\n",
    "\n",
    "# print(scalar)\n",
    "# print(vector.ndim)\n",
    "# print(matrix.ndim)\n",
    "\n",
    "print(scalar)\n",
    "print(vector.ndim)\n",
    "print(np.linalg.matrix_rank(matrix))"
   ]
  },
  {
   "cell_type": "code",
   "execution_count": 13,
   "id": "41373389",
   "metadata": {},
   "outputs": [
    {
     "name": "stdout",
     "output_type": "stream",
     "text": [
      "[1 2 3]\n",
      "[[1]\n",
      " [2]\n",
      " [3]]\n"
     ]
    }
   ],
   "source": [
    "row_wise = np.array([1,2,3])\n",
    "col_wise = np.array([[1],[2],[3]])\n",
    "print(row_wise)\n",
    "print(col_wise)"
   ]
  },
  {
   "cell_type": "code",
   "execution_count": 2,
   "id": "8845b3cb",
   "metadata": {},
   "outputs": [
    {
     "name": "stdout",
     "output_type": "stream",
     "text": [
      "[[ 7 10]\n",
      " [15 22]]\n",
      "\n",
      "[[ 1  4]\n",
      " [ 9 16]]\n"
     ]
    }
   ],
   "source": [
    "# dot product\n",
    "import numpy as np\n",
    "v1 = np.array([[1,2],[3,4]])\n",
    "v2 = np.array([[1,2],[3,4]])\n",
    "# print(v1*v2)\n",
    "\n",
    "# print(v1*v2)\n",
    "# print(2*v1)\n",
    "\n",
    "print(np.dot(v1,v2))\n",
    "print()\n",
    "print(v1*v2)"
   ]
  },
  {
   "cell_type": "code",
   "execution_count": null,
   "id": "d35dbefa",
   "metadata": {},
   "outputs": [
    {
     "name": "stdout",
     "output_type": "stream",
     "text": [
      "[[1 3]\n",
      " [2 4]]\n"
     ]
    }
   ],
   "source": [
    "#transpose of a matrix\n",
    "v1 = np.array([[1,2],[3,4]])\n",
    "print(v1.T)"
   ]
  },
  {
   "cell_type": "code",
   "execution_count": 27,
   "id": "66826d4b",
   "metadata": {},
   "outputs": [
    {
     "name": "stdout",
     "output_type": "stream",
     "text": [
      "[[ -3   6  -3]\n",
      " [ 24  12 -46]]\n"
     ]
    }
   ],
   "source": [
    "#cross product\n",
    "v1 = np.array([[1,2,3],[7,9,6]])\n",
    "v2 = np.array([[4,5,6],[9,5,6]])\n",
    "cross = np.cross(v1,v2)\n",
    "print(cross)\n"
   ]
  },
  {
   "cell_type": "code",
   "execution_count": null,
   "id": "9503b986",
   "metadata": {},
   "outputs": [],
   "source": [
    "pip install numpy\n",
    "import scipy\n",
    "pip install scipy"
   ]
  },
  {
   "cell_type": "code",
   "execution_count": 6,
   "id": "9b59f2a2",
   "metadata": {},
   "outputs": [
    {
     "name": "stdout",
     "output_type": "stream",
     "text": [
      "32\n"
     ]
    }
   ],
   "source": [
    "# use dot product\n",
    "\n",
    "import numpy as np\n",
    "\n",
    "A = [1, 2, 3]\n",
    "B = [4, 5, 6]\n",
    "\n",
    "print(np.dot(A, B))\n"
   ]
  },
  {
   "cell_type": "code",
   "execution_count": 10,
   "id": "9bd41ffc",
   "metadata": {},
   "outputs": [
    {
     "name": "stdout",
     "output_type": "stream",
     "text": [
      "Dot Product: 32\n"
     ]
    }
   ],
   "source": [
    "A = [1, 2, 3]\n",
    "B = [4, 5, 6]\n",
    "\n",
    "product = 0\n",
    "for i in range(len(A)):\n",
    "     product += A[i] * B[i]\n",
    "\n",
    "print(\"Dot Product:\", product)\n"
   ]
  },
  {
   "cell_type": "code",
   "execution_count": 12,
   "id": "e1fb0bf4",
   "metadata": {},
   "outputs": [
    {
     "name": "stdout",
     "output_type": "stream",
     "text": [
      "[[1 4]\n",
      " [2 5]\n",
      " [3 6]]\n"
     ]
    }
   ],
   "source": [
    "v1=np.array([[1,2,3],[4,5,6]])\n",
    "print(v1.T)"
   ]
  },
  {
   "cell_type": "code",
   "execution_count": 13,
   "id": "a676e59d",
   "metadata": {},
   "outputs": [
    {
     "name": "stdout",
     "output_type": "stream",
     "text": [
      "[1, 4]\n",
      "[2, 5]\n",
      "[3, 6]\n"
     ]
    }
   ],
   "source": [
    "A = [[1, 2, 3],[4, 5, 6]]\n",
    "\n",
    "\n",
    "rows = len(A)\n",
    "colm = len(A[0])\n",
    "\n",
    "transpose = []\n",
    "\n",
    "for i in range(colm):\n",
    "    row = []\n",
    "    for j in range(rows):\n",
    "        row.append(A[j][i])  \n",
    "    transpose.append(row)\n",
    "\n",
    "\n",
    "for row in transpose:\n",
    "    print(row)\n"
   ]
  },
  {
   "cell_type": "code",
   "execution_count": null,
   "id": "e6e44e34",
   "metadata": {},
   "outputs": [],
   "source": [
    "def transpose_matrix(M):\n",
    "    rows = len(M)\n",
    "    cols = len(M[0])\n",
    "    \n",
    "    result = []\n",
    "    \n",
    "    for i in range(cols):\n",
    "        row = []\n",
    "        for j in range(rows):\n",
    "            row.append(M[j][i])\n",
    "        result.append(row)\n",
    "    \n",
    "    return result\n",
    "\n",
    "# Example usage\n",
    "M = [[1, 2, 3], [4, 5, 6]]\n",
    "output = transpose_matrix(M)\n",
    "print(output)\n"
   ]
  },
  {
   "cell_type": "code",
   "execution_count": 1,
   "id": "20c21f4c",
   "metadata": {},
   "outputs": [
    {
     "name": "stdout",
     "output_type": "stream",
     "text": [
      "[1 2 3]\n"
     ]
    }
   ],
   "source": [
    "import numpy as np\n",
    "#pip install numpy\n",
    "v1 = np.array([1,2,3])\n",
    "print(v1)"
   ]
  },
  {
   "cell_type": "code",
   "execution_count": null,
   "id": "bf25a74e",
   "metadata": {},
   "outputs": [],
   "source": [
    "# mathematical foundation in ai\n",
    "# ---------------------------------\n",
    "# 1.Linear Algebra\n",
    "# 2.probability\n",
    "# 3.statistics\n",
    "# 4.hypothesis testing\n",
    "\n",
    "\n"
   ]
  },
  {
   "cell_type": "code",
   "execution_count": 2,
   "id": "2d38b844",
   "metadata": {},
   "outputs": [
    {
     "name": "stdout",
     "output_type": "stream",
     "text": [
      "[0.         0.01010101 0.02020202 0.03030303 0.04040404 0.05050505\n",
      " 0.06060606 0.07070707 0.08080808 0.09090909 0.1010101  0.11111111\n",
      " 0.12121212 0.13131313 0.14141414 0.15151515 0.16161616 0.17171717\n",
      " 0.18181818 0.19191919 0.2020202  0.21212121 0.22222222 0.23232323\n",
      " 0.24242424 0.25252525 0.26262626 0.27272727 0.28282828 0.29292929\n",
      " 0.3030303  0.31313131 0.32323232 0.33333333 0.34343434 0.35353535\n",
      " 0.36363636 0.37373737 0.38383838 0.39393939 0.4040404  0.41414141\n",
      " 0.42424242 0.43434343 0.44444444 0.45454545 0.46464646 0.47474747\n",
      " 0.48484848 0.49494949 0.50505051 0.51515152 0.52525253 0.53535354\n",
      " 0.54545455 0.55555556 0.56565657 0.57575758 0.58585859 0.5959596\n",
      " 0.60606061 0.61616162 0.62626263 0.63636364 0.64646465 0.65656566\n",
      " 0.66666667 0.67676768 0.68686869 0.6969697  0.70707071 0.71717172\n",
      " 0.72727273 0.73737374 0.74747475 0.75757576 0.76767677 0.77777778\n",
      " 0.78787879 0.7979798  0.80808081 0.81818182 0.82828283 0.83838384\n",
      " 0.84848485 0.85858586 0.86868687 0.87878788 0.88888889 0.8989899\n",
      " 0.90909091 0.91919192 0.92929293 0.93939394 0.94949495 0.95959596\n",
      " 0.96969697 0.97979798 0.98989899 1.        ]\n"
     ]
    }
   ],
   "source": [
    "# Evenly seprate the value\n",
    "n = np.linspace(0,1,100)\n",
    "print(n)"
   ]
  },
  {
   "cell_type": "code",
   "execution_count": 3,
   "id": "1c50fa62",
   "metadata": {},
   "outputs": [
    {
     "name": "stdout",
     "output_type": "stream",
     "text": [
      "[[1. 0. 0. 0.]\n",
      " [0. 1. 0. 0.]\n",
      " [0. 0. 1. 0.]\n",
      " [0. 0. 0. 1.]]\n"
     ]
    }
   ],
   "source": [
    "# idendity matrix\n",
    "print(np.eye(4))"
   ]
  },
  {
   "cell_type": "code",
   "execution_count": 5,
   "id": "048ad01f",
   "metadata": {},
   "outputs": [
    {
     "name": "stdout",
     "output_type": "stream",
     "text": [
      "[[ 6  1  1]\n",
      " [ 4 -2  5]\n",
      " [ 2  8  7]]\n",
      "[[ 0.17647059 -0.00326797 -0.02287582]\n",
      " [ 0.05882353 -0.13071895  0.08496732]\n",
      " [-0.11764706  0.1503268   0.05228758]]\n"
     ]
    }
   ],
   "source": [
    "# inverse of a matrix\n",
    "# [[6 1 1],\n",
    "# [4 -2 5],\n",
    "# [2 8 7]], 3*3 matrix\n",
    "\n",
    "\n",
    "m1 = np.matrix([[6,1,1],[4,-2,5],[2,8,7]],)\n",
    "print(m1)\n",
    "print(np.linalg.inv(m1))\n",
    "\n",
    "\n",
    "\n",
    "\n",
    "\n"
   ]
  },
  {
   "cell_type": "code",
   "execution_count": 7,
   "id": "f2d23b7a",
   "metadata": {},
   "outputs": [
    {
     "name": "stdout",
     "output_type": "stream",
     "text": [
      "[[ 6  1  1]\n",
      " [ 4 -2  5]\n",
      " [ 2  8  7]]\n",
      "-306.0\n",
      "-306.0\n"
     ]
    }
   ],
   "source": [
    "# Determinant of a matrix\n",
    "# [[6 1 1],\n",
    "# [4 -2 5],\n",
    "# [2 8 7]], 3*3 matrix\n",
    "\n",
    "import numpy as np\n",
    "m1 = np.matrix([[6,1,1],[4,-2,5],[2,8,7]],)\n",
    "print(m1)\n",
    "print(np.linalg.det(m1))\n",
    "from numpy.linalg import det\n",
    "print(det(m1))\n",
    "\n",
    "\n",
    "\n",
    "\n",
    "\n"
   ]
  },
  {
   "cell_type": "code",
   "execution_count": null,
   "id": "8a4b5aa1",
   "metadata": {},
   "outputs": [
    {
     "name": "stdout",
     "output_type": "stream",
     "text": [
      "[[0.62048084 0.54955125 0.55308849 0.81967248 0.7769278  0.75115122\n",
      "  0.85218628 0.56612977 0.48870922 0.30128499 0.41717734 0.71888936\n",
      "  0.67735574 0.00116391 0.79249492 0.83670403 0.81214532 0.26751246\n",
      "  0.44582814 0.51469182 0.87487013 0.85486112 0.2612938  0.96011997\n",
      "  0.81171385 0.37837664 0.77144192 0.64785858 0.33461126 0.01877682]\n",
      " [0.24125296 0.04691075 0.14198829 0.50038818 0.64417077 0.18754899\n",
      "  0.57860919 0.1471709  0.06753091 0.27407007 0.05091616 0.94809695\n",
      "  0.17698715 0.70160891 0.81716493 0.53369063 0.30802338 0.82514938\n",
      "  0.94536994 0.49058145 0.4532191  0.0678431  0.02683444 0.17116216\n",
      "  0.83633299 0.63168414 0.27544801 0.51713041 0.12059881 0.34923052]]\n"
     ]
    }
   ],
   "source": [
    "A = np.random.rand(2,30) #arguments rows&coloumn\n",
    "print(A)"
   ]
  },
  {
   "cell_type": "code",
   "execution_count": 10,
   "id": "e3ab1bf8",
   "metadata": {},
   "outputs": [
    {
     "name": "stderr",
     "output_type": "stream",
     "text": [
      "Matplotlib is building the font cache; this may take a moment.\n"
     ]
    },
    {
     "data": {
      "image/png": "[encoded data removed]",
      "text/plain": [
       "<Figure size 640x480 with 1 Axes>"
      ]
     },
     "metadata": {},
     "output_type": "display_data"
    }
   ],
   "source": [
    "# matplotlib, seaborn, plotly\n",
    "\n",
    "import matplotlib.pyplot as plt\n",
    "import seaborn as sns\n",
    "import plotly\n",
    "plt.quiver(1, 0, 0, 2, color = 'red')\n",
    "plt.quiver(1, 0, 2, 3, color = 'green')\n",
    "plt.xlim(-5, 1)\n",
    "plt.ylim(-5, 1)\n",
    "plt.show()"
   ]
  }
 ],
 "metadata": {
  "kernelspec": {
   "display_name": "Python 3",
   "language": "python",
   "name": "python3"
  },
  "language_info": {
   "codemirror_mode": {
    "name": "ipython",
    "version": 3
   },
   "file_extension": ".py",
   "mimetype": "text/x-python",
   "name": "python",
   "nbconvert_exporter": "python",
   "pygments_lexer": "ipython3",
   "version": "3.13.5"
  }
 },
 "nbformat": 4,
 "nbformat_minor": 5
}
