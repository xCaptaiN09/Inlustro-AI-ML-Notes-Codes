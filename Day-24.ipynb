{
 "cells": [
  {
   "cell_type": "code",
   "execution_count": null,
   "id": "aacbf382",
   "metadata": {},
   "outputs": [],
   "source": [
    "#SHORTEST PATH:\n",
    "\n",
    "#primsmAlgorithm\n",
    "#start with any node\n",
    "#pick the smallest element that connects with the edges\n",
    "#Repeat the steps again until all nodes are visited\n"
   ]
  },
  {
   "cell_type": "code",
   "execution_count": 4,
   "id": "c863b775",
   "metadata": {},
   "outputs": [
    {
     "name": "stdout",
     "output_type": "stream",
     "text": [
      "PRIM'S most cost: 7\n"
     ]
    }
   ],
   "source": [
    "# PRIM'S ALGORITHM\n",
    "def prims(graph, start):\n",
    "    visited = set([start])\n",
    "    total_cost = 0\n",
    "\n",
    "    while len(visited) < len(graph):\n",
    "        edge = None\n",
    "        min_w = float('inf')\n",
    "\n",
    "        # Find the smallest edge from visited -> unvisited\n",
    "        for u in visited:\n",
    "            for v, w in graph[u]:\n",
    "                if v not in visited and w < min_w:\n",
    "                    min_w = w\n",
    "                    edge = (u, v)\n",
    "\n",
    "        if edge is None:\n",
    "            break  \n",
    "\n",
    "        total_cost += min_w\n",
    "        visited.add(edge[1])\n",
    "\n",
    "    return total_cost\n",
    "\n",
    "\n",
    "# Graph adjacency list\n",
    "graph = {\n",
    "    'A': [('B', 1), ('C', 3)],\n",
    "    'B': [('A', 1), ('C', 2), ('D', 4)],\n",
    "    'C': [('A', 3), ('B', 2), ('D', 5)],\n",
    "    'D': [('B', 4), ('C', 5)]\n",
    "}\n",
    "\n",
    "print(\"PRIM'S most cost:\", prims(graph, 'A'))\n"
   ]
  },
  {
   "cell_type": "code",
   "execution_count": null,
   "id": "d84f0409",
   "metadata": {},
   "outputs": [],
   "source": [
    "#KRUSKAL'S ALGORITHM:\n",
    "# start with any node\n",
    "# sort edges by cost\n",
    "# it donot form a loop or cycle\n",
    "# if it is form a loop or cycle then ignore the edge"
   ]
  },
  {
   "cell_type": "code",
   "execution_count": 6,
   "id": "408a8886",
   "metadata": {},
   "outputs": [
    {
     "name": "stdout",
     "output_type": "stream",
     "text": [
      "krushkals most cost: 7\n"
     ]
    }
   ],
   "source": [
    "#KRUSHKAL'S  ALOGORITHM\n",
    "\n",
    "def find (parent,x):\n",
    "    if parent[x]!=x:\n",
    "        parent[x]=find(parent,parent[x])\n",
    "    return parent[x]\n",
    "def krushkals(nodes,edges):\n",
    "    parent={n:n for n in nodes} \n",
    "    edges.sort(key=lambda x:x[2])\n",
    "    total_cost=0\n",
    "\n",
    "    for u,v,w in edges:\n",
    "        if find(parent,u)!=find(parent,v):\n",
    "            parent[find(parent,u)]=find(parent,v)\n",
    "            total_cost+=w\n",
    "    return total_cost\n",
    "nodes=['A','B','C','D']\n",
    "edges=[\n",
    "    ('A','B',1),\n",
    "    ('B','C',2),\n",
    "    ('A','C',3),\n",
    "    ('B','D',4),\n",
    "    ('C','D',5)\n",
    "] \n",
    "\n",
    "print(\"krushkals most cost:\",krushkals(nodes,edges))"
   ]
  },
  {
   "cell_type": "code",
   "execution_count": null,
   "id": "48907e10",
   "metadata": {},
   "outputs": [],
   "source": [
    "#Dynamic programming:\n",
    "'''Dynamic programming is a method for designing  algorithms\n",
    "\n",
    "An algorithm designed with Dynamic programming divides the problem into subproblems,\n",
    "finds solutions to the subproblems,\n",
    "and puts them together to form a complete solution to the problem we want to solve\n",
    "'''"
   ]
  },
  {
   "cell_type": "code",
   "execution_count": null,
   "id": "7677693a",
   "metadata": {},
   "outputs": [],
   "source": [
    "#DP=smart recursion+memory\n",
    "'''\n",
    "Used when:\n",
    "          overlapping subproblems-you solve the same subproblem many times\n",
    "          optimal substructure-solve big problems using optimal solutions of smaller problems\n",
    "'''"
   ]
  },
  {
   "cell_type": "code",
   "execution_count": null,
   "id": "6a11e9c3",
   "metadata": {},
   "outputs": [],
   "source": [
    "'''\n",
    " Examples:\n",
    " Climbing stairs\n",
    " Fibonacci\n",
    " coin change\n",
    " house robber\n",
    "'''"
   ]
  },
  {
   "cell_type": "code",
   "execution_count": null,
   "id": "a29bcd32",
   "metadata": {},
   "outputs": [],
   "source": [
    "'''\n",
    "1. Memoization is a technical where results are sorted to avoid doing the same computations many times.\n",
    "Recursive approach\n",
    "2.Tabulation-It follows a Iterative approach (bottom approach)\n",
    "'''"
   ]
  },
  {
   "cell_type": "code",
   "execution_count": null,
   "id": "0cde428b",
   "metadata": {},
   "outputs": [],
   "source": [
    "'''\n",
    "DP Building Blocks\n",
    "1.state:what changes at each step?->i,amount,etc.\n",
    "2.Decision:what options do i have?->climb1 or climb2\n",
    "3.Base case: where do i start from?\n",
    "'''"
   ]
  },
  {
   "cell_type": "code",
   "execution_count": 1,
   "id": "6bb791df",
   "metadata": {},
   "outputs": [
    {
     "name": "stdout",
     "output_type": "stream",
     "text": [
      "3\n"
     ]
    }
   ],
   "source": [
    "#Method 1:Recursion(slow)\n",
    "def climb(n):\n",
    "    if n<=1:\n",
    "        return 1\n",
    "    return climb(n-1)+climb(n-2)\n",
    "print(climb(3))\n",
    "\n"
   ]
  },
  {
   "cell_type": "code",
   "execution_count": 5,
   "id": "69beb073",
   "metadata": {},
   "outputs": [
    {
     "name": "stdout",
     "output_type": "stream",
     "text": [
      "8\n"
     ]
    }
   ],
   "source": [
    "#Method 2:Memoization(fast)=Top down\n",
    "\n",
    "memory={}\n",
    "def climb(n):\n",
    "    if n<=1:\n",
    "        return 1\n",
    "    if n in memory:\n",
    "        return memory[n]\n",
    "    memory[n]=climb(n-1)+climb(n-2)\n",
    "    return memory[n]\n",
    "print (climb(5))"
   ]
  },
  {
   "cell_type": "code",
   "execution_count": null,
   "id": "552b1733",
   "metadata": {},
   "outputs": [
    {
     "name": "stdout",
     "output_type": "stream",
     "text": [
      "8\n"
     ]
    }
   ],
   "source": [
    "#Method:3 Tabulation(bottom-up)\n",
    "def climb(n):\n",
    "    if n<=2:\n",
    "        return n\n",
    "    dp=[0]*(n+1)\n",
    "    dp[0]=dp[1]=1\n",
    "    for i in range(2,n+1):\n",
    "        dp[i]=dp[i-1]+dp[i-2]\n",
    "    return dp[n]\n",
    "print(climb(5))"
   ]
  },
  {
   "cell_type": "code",
   "execution_count": 10,
   "id": "942d82dc",
   "metadata": {},
   "outputs": [
    {
     "data": {
      "text/plain": [
       "2"
      ]
     },
     "execution_count": 10,
     "metadata": {},
     "output_type": "execute_result"
    }
   ],
   "source": [
    "#Recursive Approach\n",
    "def mincoins(coins,amount):\n",
    "    if amount==0:\n",
    "        return 0\n",
    "    res=float('inf')\n",
    "    for coin in coins:\n",
    "        if coin in coins:\n",
    "            if amount-coin>=0:\n",
    "                res=min(res,mincoins(coins,amount-coin)+1)\n",
    "    return res\n",
    "mincoins([1,3,4],6)"
   ]
  },
  {
   "cell_type": "code",
   "execution_count": 11,
   "id": "208d7a31",
   "metadata": {},
   "outputs": [
    {
     "name": "stdout",
     "output_type": "stream",
     "text": [
      "2\n"
     ]
    }
   ],
   "source": [
    "#Recursive Approach\n",
    "def mincoins(coins,amount):\n",
    "    if amount==0:\n",
    "        return 0\n",
    "    res=None\n",
    "    for coin in coins:\n",
    "        if amount - coin>=0:\n",
    "            ans=mincoins(coins,amount-coin)\n",
    "        if ans is not None:\n",
    "            if res is None or ans+1<res:\n",
    "                res=ans+1\n",
    "    return res\n",
    "print(mincoins([1,3,4],6))    \n"
   ]
  },
  {
   "cell_type": "code",
   "execution_count": null,
   "id": "c6e05fae",
   "metadata": {},
   "outputs": [
    {
     "name": "stdout",
     "output_type": "stream",
     "text": [
      "2\n"
     ]
    }
   ],
   "source": [
    "# Tabulation - Bottom up approach\n",
    "def minCoins(coins, amount):\n",
    "    dp = [float('inf')] * (amount + 1)  # [0] * [n+1]\n",
    "    dp[0] = 0\n",
    "\n",
    "    for x in range(1, amount + 1):\n",
    "        for coin in coins:\n",
    "            if x - coin >= 0:\n",
    "                dp[x] = min(dp[x], dp[x - coin] + 1)\n",
    "\n",
    "    if dp[amount] != float('inf'):\n",
    "        return dp[amount]\n",
    "    return -1  \n",
    "\n",
    "print(minCoins([1, 3, 4], 6))"
   ]
  },
  {
   "cell_type": "code",
   "execution_count": null,
   "id": "7cc85564",
   "metadata": {},
   "outputs": [],
   "source": [
    "#you're robbering house ona street.Each house has some money.\n",
    "#if you rob two next to each other,police catch you.\n",
    "#you need maximum total money without robbing two \n",
    "# side by side houses"
   ]
  },
  {
   "cell_type": "code",
   "execution_count": 16,
   "id": "f5bbd32e",
   "metadata": {},
   "outputs": [
    {
     "data": {
      "text/plain": [
       "7"
      ]
     },
     "execution_count": 16,
     "metadata": {},
     "output_type": "execute_result"
    }
   ],
   "source": [
    "#Native recursive approach\n",
    "def rob(nums,i=0):\n",
    "    if i>=len(nums):\n",
    "        return 0\n",
    "    return max(rob(nums,i+1),nums[i]+rob(nums,i+2))\n",
    "rob([2,1,4,5])"
   ]
  },
  {
   "cell_type": "code",
   "execution_count": 6,
   "id": "7ae89e39",
   "metadata": {},
   "outputs": [
    {
     "name": "stdout",
     "output_type": "stream",
     "text": [
      "7\n"
     ]
    }
   ],
   "source": [
    "def rob(nums):\n",
    "    n=len(nums)\n",
    "    if n==0: return 0\n",
    "    if n==1: return nums[0]\n",
    "    dp=[0]*n\n",
    "    dp[0]=nums[0]\n",
    "    dp[1]=max(nums[0],nums[1])\n",
    "    for i in range(2,n):\n",
    "        dp[i]=max(dp[i-1],dp[i-2]+nums[i])\n",
    "    return dp[-1]\n",
    "print(rob([2,1,4,5])) #or 2,7,9,3,1"
   ]
  }
 ],
 "metadata": {
  "kernelspec": {
   "display_name": "Python 3",
   "language": "python",
   "name": "python3"
  },
  "language_info": {
   "codemirror_mode": {
    "name": "ipython",
    "version": 3
   },
   "file_extension": ".py",
   "mimetype": "text/x-python",
   "name": "python",
   "nbconvert_exporter": "python",
   "pygments_lexer": "ipython3",
   "version": "3.13.5"
  }
 },
 "nbformat": 4,
 "nbformat_minor": 5
}
