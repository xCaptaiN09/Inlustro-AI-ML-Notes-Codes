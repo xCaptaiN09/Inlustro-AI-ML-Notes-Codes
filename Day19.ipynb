{
 "cells": [
  {
   "cell_type": "code",
   "execution_count": 4,
   "id": "4022a322",
   "metadata": {},
   "outputs": [
    {
     "name": "stdout",
     "output_type": "stream",
     "text": [
      "wonderwomen\n"
     ]
    }
   ],
   "source": [
    "class wordbuilder:\n",
    "    def __init__(self,fragments):\n",
    "        self.fragments=fragments\n",
    "    def build(self):\n",
    "        return''.join(self.fragments)\n",
    "W= wordbuilder([\"wonder\",\"women\"])\n",
    "print(W.build())    "
   ]
  },
  {
   "cell_type": "code",
   "execution_count": 12,
   "id": "b480e429",
   "metadata": {},
   "outputs": [
    {
     "name": "stdout",
     "output_type": "stream",
     "text": [
      "Total: rs 150\n",
      "Total: rs 270.0\n",
      "Total Sales: rs 420.0\n"
     ]
    }
   ],
   "source": [
    "class Ticket:\n",
    "    def __init__(self, price):\n",
    "        self.price = price\n",
    "\n",
    "class Booth:\n",
    "    def __init__(self): \n",
    "        self.sales = 0\n",
    "    def buy(self, prices):\n",
    "        total = sum(prices)\n",
    "        if len(prices) >= 3: total *= 0.9 \n",
    "        self.sales += total\n",
    "        print(f\"Total: rs {total}\")\n",
    "    def report(self): print(f\"Total Sales: rs {self.sales}\")\n",
    "\n",
    "b = Booth()\n",
    "b.buy([100, 50])         \n",
    "b.buy([150,100, 50])\n",
    "b.report()\n"
   ]
  },
  {
   "cell_type": "code",
   "execution_count": null,
   "id": "116c7d67",
   "metadata": {},
   "outputs": [
    {
     "name": "stdout",
     "output_type": "stream",
     "text": [
      "6766651746440350011\n",
      "45\n",
      "78\n",
      "0\n"
     ]
    }
   ],
   "source": [
    "# DAY-1\n",
    "\n",
    "# Hashing -we want to convert the data into a fixed value using hash function.\n",
    "#hash()\n",
    "\n",
    "print(hash(\"Akash\"))\n",
    "print(hash(45))\n",
    "print(hash(78.0))\n",
    "print(hash(False))\n",
    "\n",
    "#Hash maps, #hash sets\n",
    "#why we use hashing-o(n^2),(o(n))\n",
    "\n"
   ]
  },
  {
   "cell_type": "code",
   "execution_count": 13,
   "id": "8ca2d516",
   "metadata": {},
   "outputs": [
    {
     "name": "stdout",
     "output_type": "stream",
     "text": [
      "12\n",
      "34\n",
      "56\n"
     ]
    }
   ],
   "source": [
    "#Time-how much it will take to execute a program\n",
    "#Space-how much space required to perform the program\n",
    "\n",
    "n=1000\n",
    "list=[12,34,56] #o(1)\n",
    "for i in list: #o(n)\n",
    "    # for j in(n+1):#o(n^2)\n",
    "#Searchinf,tree-o(logn)        \n",
    "    print(i)"
   ]
  },
  {
   "cell_type": "code",
   "execution_count": 14,
   "id": "26fd9a1b",
   "metadata": {},
   "outputs": [
    {
     "name": "stdout",
     "output_type": "stream",
     "text": [
      "6586756101419746589\n",
      "7833773091238616434\n",
      "-8227298734097393991\n"
     ]
    }
   ],
   "source": [
    "list=[\"chery\",\"candy\",\"sweety\"]\n",
    "for i in list:\n",
    "    print(hash(i))"
   ]
  },
  {
   "cell_type": "code",
   "execution_count": 15,
   "id": "1e23280d",
   "metadata": {},
   "outputs": [
    {
     "name": "stdout",
     "output_type": "stream",
     "text": [
      "{'G': 1, 'o': 3, 'd': 1, ' ': 1, 'm': 1, 'r': 1, 'n': 2, 'i': 1, 'g': 1}\n"
     ]
    }
   ],
   "source": [
    "#Hash set\n",
    "#Hash map\n",
    "#counter,dict,defaultdict\n",
    "#Good Morning-count the character\n",
    "\n",
    "a=\"Good morning\"\n",
    "b={}\n",
    "for i in a:\n",
    "    if i not in b:\n",
    "        b[i]= 1\n",
    "    else:\n",
    "        b[i]+=1\n",
    "print(b)\n"
   ]
  },
  {
   "cell_type": "code",
   "execution_count": 17,
   "id": "f83b980a",
   "metadata": {},
   "outputs": [
    {
     "name": "stdout",
     "output_type": "stream",
     "text": [
      "Counter({'a': 3, 'n': 2, 'b': 1})\n"
     ]
    }
   ],
   "source": [
    "from collections import Counter\n",
    "a=\"banana\"\n",
    "print(Counter(a))"
   ]
  },
  {
   "cell_type": "code",
   "execution_count": 18,
   "id": "ef1203f6",
   "metadata": {},
   "outputs": [
    {
     "name": "stdout",
     "output_type": "stream",
     "text": [
      "{'b': 1, 'a': 3, 'n': 2}\n"
     ]
    }
   ],
   "source": [
    "\n",
    "a=\"banana\"\n",
    "dict={}\n",
    "for ch in a:\n",
    "    if ch in dict:\n",
    "        dict[ch]+=1\n",
    "    else:\n",
    "        dict[ch]=1\n",
    "print(dict)    \n"
   ]
  }
 ],
 "metadata": {
  "kernelspec": {
   "display_name": "Python 3",
   "language": "python",
   "name": "python3"
  },
  "language_info": {
   "codemirror_mode": {
    "name": "ipython",
    "version": 3
   },
   "file_extension": ".py",
   "mimetype": "text/x-python",
   "name": "python",
   "nbconvert_exporter": "python",
   "pygments_lexer": "ipython3",
   "version": "3.13.5"
  }
 },
 "nbformat": 4,
 "nbformat_minor": 5
}
