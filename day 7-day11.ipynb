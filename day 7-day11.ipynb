{
 "cells": [
  {
   "cell_type": "code",
   "execution_count": null,
   "id": "fc31dd30",
   "metadata": {},
   "outputs": [],
   "source": [
    "Exception handiling in python\n",
    "    type errors\n",
    "    syntax error\n",
    "    Name error \n",
    "    indentation error\n",
    "    zero division error\n",
    "    Key error\n",
    "    Index error\n",
    "    run time error\n",
    "    arithemetic error\n",
    "    compilation error\n",
    "    module not found error\n",
    "    file not found error\n",
    "    value error\n",
    "    keyboard interupt error\n",
    "summary:-\n",
    "    the try block lets you test a block of code for error\n",
    "    except block - lets you handle the error\n",
    "    else block - lets you execute code when there is no error\n",
    "    finally block - executes the code regardlesss of result of try and except block\n",
    "\n",
    "\n"
   ]
  },
  {
   "cell_type": "code",
   "execution_count": null,
   "id": "d834a200",
   "metadata": {},
   "outputs": [
    {
     "name": "stdout",
     "output_type": "stream",
     "text": [
      "it divides by zero\n",
      "the code executed successfully\n"
     ]
    }
   ],
   "source": [
    "# # try block\n",
    "\n",
    "# number = int(input())\n",
    "\n",
    "# try:\n",
    "#     var = number/0\n",
    "#     print(var)\n",
    "# except(ZeroDivisionError):\n",
    "#     print(\"it divides by zero\")\n",
    "# finally:\n",
    "#     print(\"the code executed successfully\")\n"
   ]
  },
  {
   "cell_type": "code",
   "execution_count": null,
   "id": "2226d485",
   "metadata": {},
   "outputs": [
    {
     "name": "stdout",
     "output_type": "stream",
     "text": [
      "it divides by zero\n",
      "code executed succesfully\n"
     ]
    }
   ],
   "source": [
    "# number = int(input())\n",
    "\n",
    "# try:\n",
    "#     var = number/0\n",
    "#     print(var)\n",
    "# except(ZeroDivisionError):\n",
    "#     print(\"it divides by zero\")\n",
    "# except(ValueError):\n",
    "#     print(\"enter an integer\")\n",
    "# else:\n",
    "#     print(\"is divided succesfully\")\n",
    "# finally:\n",
    "#     print(\"code executed succesfully\") \n"
   ]
  },
  {
   "cell_type": "code",
   "execution_count": null,
   "id": "3629420e",
   "metadata": {},
   "outputs": [
    {
     "name": "stdout",
     "output_type": "stream",
     "text": [
      "there is no file\n",
      "its done\n"
     ]
    }
   ],
   "source": [
    "# try:\n",
    "#     file = open(\"demo.txt\",\"r\")\n",
    "#     content = file.read()\n",
    "#     print(content)\n",
    "# except(FileNotFoundError):\n",
    "#     print(\"there is no file\")\n",
    "# else:\n",
    "#     print(\"the file was read successfully\")\n",
    "# finally:\n",
    "#     print(\"its done\")\n"
   ]
  },
  {
   "cell_type": "code",
   "execution_count": null,
   "id": "e3278c74",
   "metadata": {},
   "outputs": [
    {
     "name": "stdout",
     "output_type": "stream",
     "text": [
      "eligible for voting\n",
      "that is eligible\n",
      "program executed successfully\n"
     ]
    }
   ],
   "source": [
    "# # get age from user, if ge > 18, eligible else not,    user try, except, finally\n",
    "\n",
    "# userAge = int(input('Enter your age: '))\n",
    "# try:\n",
    "#     if userAge >= 18:\n",
    "#         print('eligible for voting')\n",
    "# except(ValueError):\n",
    "#     print('not eligible for voting')\n",
    "# else:\n",
    "#     print('that is eligible')\n",
    "# finally:\n",
    "#     print('program executed successfully')"
   ]
  },
  {
   "cell_type": "code",
   "execution_count": null,
   "id": "2c0c13a0",
   "metadata": {},
   "outputs": [
    {
     "name": "stdout",
     "output_type": "stream",
     "text": [
      "to watch the sunset\n",
      "to party\n"
     ]
    }
   ],
   "source": [
    "# # oop- object oriented programming\n",
    "#         #Whos going\n",
    "#         #How much money we need\n",
    "#         #What about the food\n",
    "#         #Where we need to stay\n",
    "#         #who will book the tickets\n",
    "#         #Class -collection of object\n",
    "#         #Object instance of a class \n",
    "\n",
    "# class GoaTrip():\n",
    "#    def beach(self):\n",
    "#         print(\"to watch the sunset\")\n",
    "#    def party(self):\n",
    "#         print(\"to party\")       \n",
    "# abhinav = GoaTrip()\n",
    "# tebin = GoaTrip()\n",
    "# abhinav.beach()\n",
    "# tebin.party()                                  "
   ]
  },
  {
   "cell_type": "code",
   "execution_count": null,
   "id": "641a3512",
   "metadata": {},
   "outputs": [
    {
     "name": "stdout",
     "output_type": "stream",
     "text": [
      "rice is added your cart\n",
      "paympori is added your cart\n"
     ]
    }
   ],
   "source": [
    "# class food_library():\n",
    "#     def rice(self):\n",
    "#         print(\"rice is added your cart\")\n",
    "#     def paympori(self):\n",
    "#         print(\"paympori is added your cart\") \n",
    "# nihal=food_library()\n",
    "# tebila=food_library()        \n",
    "# nihal.rice()\n",
    "# tebila.paympori()           "
   ]
  },
  {
   "cell_type": "code",
   "execution_count": null,
   "id": "1e9676df",
   "metadata": {},
   "outputs": [
    {
     "name": "stdout",
     "output_type": "stream",
     "text": [
      "Abinav - To see the sunset\n",
      "Tebin Joseph - Let's have a vibe\n"
     ]
    }
   ],
   "source": [
    "# class GoaTrip:\n",
    "#     def beach(self):\n",
    "#         print(f\"{self.name} - To see the sunset\")\n",
    "    \n",
    "#     def party(self):\n",
    "#         print(f\"{self.name} - Let's have a vibe\")\n",
    "\n",
    "# # Creating objects\n",
    "# abinav = GoaTrip()\n",
    "# tebin = GoaTrip()\n",
    "\n",
    "# # Assigning names\n",
    "# abinav.name = \"Abinav\"\n",
    "# tebin.name = \"Tebin Joseph\"\n",
    "\n",
    "# # Method calls\n",
    "# abinav.beach()\n",
    "# tebin.party()\n",
    "\n",
    "\n"
   ]
  },
  {
   "cell_type": "code",
   "execution_count": null,
   "id": "73d5a621",
   "metadata": {},
   "outputs": [],
   "source": [
    "# class GoaTrip:\n",
    "#     def __init__(self, name, budget):\n",
    "#         self.name = name\n",
    "#         self.budget = budget\n",
    "\n",
    "#     def beach(self):\n",
    "#         print(f\"{self.name} - To see the sunset\")\n",
    "\n",
    "#     def party(self):\n",
    "#         print(f\"{self.name} - Let's have a vibe\")\n",
    "\n",
    "#     def show_budget(self):\n",
    "#         print(f\"{self.name}'s budget: ₹{self.budget}\")\n",
    "\n",
    "\n",
    "# # Creating objects\n",
    "# abinav = GoaTrip(\"Abinav\", 5000)\n",
    "# tebin = GoaTrip(\"Tebin Joseph\", 7000)\n",
    "\n",
    "# # Method calls\n",
    "# abinav.beach()\n",
    "# abinav.party()\n",
    "# abinav.show_budget()\n",
    "\n",
    "# print(\"---\")  # separator\n",
    "\n",
    "# tebin.beach()\n",
    "# tebin.party()\n",
    "# tebin.show_budget()\n"
   ]
  },
  {
   "cell_type": "code",
   "execution_count": null,
   "id": "07acbfc9",
   "metadata": {},
   "outputs": [
    {
     "name": "stdout",
     "output_type": "stream",
     "text": [
      "munthazir, your current balance is ₹0.\n",
      "₹5000 deposited successfully.\n",
      "₹2000 withdrawn successfully.\n",
      "munthazir, your current balance is ₹3000.\n"
     ]
    }
   ],
   "source": [
    "# class Bank_account:\n",
    "#     def __init__(self, name):\n",
    "#         self.name = name\n",
    "#         self.balance = 0  \n",
    "\n",
    "#     def deposit(self, amount):\n",
    "#         if amount > 0:\n",
    "#             self.balance += amount\n",
    "#             print(f\"₹{amount} deposited successfully.\")\n",
    "#         else:\n",
    "#             print(\"Invalid deposit amount.\")\n",
    "\n",
    "#     def withdraw(self, amount):\n",
    "#         if amount > self.balance:\n",
    "#             print(\"Insufficient balance.\")\n",
    "#         elif amount <= 0:\n",
    "#             print(\"Invalid withdrawal amount.\")\n",
    "#         else:\n",
    "#             self.balance -= amount\n",
    "#             print(f\"₹{amount} withdrawn successfully.\")\n",
    "\n",
    "#     def check_balance(self):\n",
    "#         print(f\"{self.name}, your current balance is ₹{self.balance}.\")\n",
    "\n",
    "\n",
    "\n",
    "# account1 = Bank_account(\"munthazir\")\n",
    "\n",
    "# account1.check_balance()\n",
    "# account1.deposit(5000)\n",
    "# account1.withdraw(2000)\n",
    "# account1.check_balance()\n",
    "\n",
    "\n"
   ]
  },
  {
   "cell_type": "code",
   "execution_count": null,
   "id": "8d59c647",
   "metadata": {},
   "outputs": [
    {
     "name": "stdout",
     "output_type": "stream",
     "text": [
      "your current balance is ₹2000.\n",
      "₹10000 deposited successfully.\n",
      "your current balance is ₹12000.\n",
      "₹8000 withdrawn successfully.\n",
      "your current balance is ₹4000.\n"
     ]
    }
   ],
   "source": [
    "# class Bank_account():\n",
    "#     def __init__(self, balance, dep_amount, withdraw):\n",
    "#         self.balance = balance\n",
    "#         self.dep_amount = dep_amount\n",
    "#         self.withdraw = withdraw\n",
    "\n",
    "#     def Deposit(self):\n",
    "#         if self.dep_amount > 0:\n",
    "#             self.balance += self.dep_amount\n",
    "#             print(f\"₹{self.dep_amount} deposited successfully.\")\n",
    "#         else:\n",
    "#             print(\"Invalid deposit amount.\")\n",
    "\n",
    "#     def Withdraw(self):\n",
    "#         if self.withdraw > self.balance:\n",
    "#             print(\"Insufficient balance.\")\n",
    "#         elif self.balance <= 0:\n",
    "#             print(\"Invalid withdrawal amount.\")\n",
    "#         else:\n",
    "#             self.balance -= self.withdraw\n",
    "#             print(f\"₹{self.withdraw} withdrawn successfully.\")\n",
    "\n",
    "#     def Balance(self):\n",
    "#         print(f\"your current balance is ₹{self.balance}.\")\n",
    "\n",
    "\n",
    " \n",
    "# munthazir = Bank_account(2000, 10000, 8000)\n",
    "# munthazir.Balance()\n",
    "# munthazir.Deposit()\n",
    "# munthazir.Balance()\n",
    "# munthazir.Withdraw()\n",
    "# munthazir.Balance()\n",
    "\n",
    "\n"
   ]
  },
  {
   "cell_type": "code",
   "execution_count": null,
   "id": "438e6839",
   "metadata": {},
   "outputs": [
    {
     "name": "stdout",
     "output_type": "stream",
     "text": [
      "Area: 4984\n",
      "Perimeter: 290\n"
     ]
    }
   ],
   "source": [
    "# class Rectangle:\n",
    "#     def __init__(self, height, width):\n",
    "#         self.height = height\n",
    "#         self.width = width\n",
    "\n",
    "#     def area(self):\n",
    "#         return self.height * self.width\n",
    "\n",
    "#     def perimeter(self):\n",
    "#         return 2 * (self.height + self.width)\n",
    "\n",
    "\n",
    "# r1 = Rectangle(56, 89)\n",
    "\n",
    "# print(\"Area:\", r1.area())\n",
    "# print(\"Perimeter:\", r1.perimeter())\n"
   ]
  },
  {
   "cell_type": "code",
   "execution_count": null,
   "id": "40cceb4a",
   "metadata": {},
   "outputs": [],
   "source": [
    "class and  object \n",
    "the four pillars in oops\n",
    "abstraction,enscapulation,inheritance,polymorphism\n",
    "\n",
    "         Abstraction------->hiding the internal information(showing necessary part of the object or process)\n",
    " Eg:  What you see:\n",
    "            You tap buttons to call, text, or open apps.\n",
    "\n",
    "      What’s hidden:\n",
    "        All the complex electronic circuits, code, and processes inside.\n",
    "\n",
    "\n",
    "        Encapsulation---------->binding the data into single unit\n",
    "Eg:   What you do:\n",
    "       Insert card → Enter PIN → Withdraw money.\n",
    "\n",
    "      what’s hidden:\n",
    "      Account balance checks, security validations, and backend operations.\n",
    "\n",
    "        Protection:\n",
    "       You can’t directly access or modify the bank’s database — only through a secured\n",
    "interface.\n",
    "\n",
    "          inheritance:-------->  \n",
    "          Inheritance is the process by which a derived class acquires the properties and behaviors of another parent class\n",
    "\n"
   ]
  },
  {
   "cell_type": "code",
   "execution_count": null,
   "id": "1061bc13",
   "metadata": {},
   "outputs": [
    {
     "name": "stdout",
     "output_type": "stream",
     "text": [
      "Animal makes a sound\n",
      "dog is barking\n",
      "cat meows\n"
     ]
    }
   ],
   "source": [
    "# # inheritance:-------->  \n",
    "\n",
    "# class Animal():\n",
    "#     def sound(self):\n",
    "#         print(\"Animal makes a sound\")\n",
    "\n",
    "# class dog(Animal):\n",
    "#     def sound(self):    \n",
    "#         print(\"dog is barking\")     \n",
    "\n",
    "# class cat(Animal):\n",
    "#     def sound(self):\n",
    "#         print(\"cat meows\")\n",
    "\n",
    "# A1=Animal()\n",
    "# B1=dog()\n",
    "# C1=cat()\n",
    "# A1.sound()\n",
    "# B1.sound()\n",
    "# C1.sound()\n"
   ]
  },
  {
   "cell_type": "code",
   "execution_count": null,
   "id": "e41eed67",
   "metadata": {},
   "outputs": [
    {
     "name": "stdout",
     "output_type": "stream",
     "text": [
      "Name: Munthazir\n",
      "Roll Number: 732724243070\n",
      "-----------------------------------------------------------------------\n",
      "Name: Akhil\n",
      "Roll Number: 732724243080\n"
     ]
    }
   ],
   "source": [
    "# #HOME WORK \n",
    "# # Problem 1: Class and Object – Student Management - Create a class called Student with\n",
    "# # the following attributes:\n",
    "# # • name\n",
    "# # • roll_number\n",
    "# # Add a method display() to print the student details.\n",
    "# # Create two student objects and call the display() method.\n",
    "\n",
    "# # 1ans)\n",
    "\n",
    "# class Student:\n",
    "#     def __init__(self, name, roll_number):\n",
    "#                 self.name = name\n",
    "#                 self.roll_number = roll_number\n",
    "\n",
    "#     def display(self):\n",
    "#         print(\"Name:\", self.name)\n",
    "#         print(\"Roll Number:\", self.roll_number)\n",
    "        \n",
    "# student1 = Student(\"Munthazir\", \"732724243070\")\n",
    "\n",
    "# student2 = Student(\"Akhil\", \"732724243080\")\n",
    "\n",
    "# student1.display()\n",
    "# print(\"-----------------------------------------------------------------------\")\n",
    "# student2.display()\n",
    "\n"
   ]
  },
  {
   "cell_type": "code",
   "execution_count": null,
   "id": "950a0e7f",
   "metadata": {},
   "outputs": [
    {
     "name": "stdout",
     "output_type": "stream",
     "text": [
      "Name: Munthazir\n",
      "Salary: 75000\n",
      "I am a Manager\n",
      "-------------------------------------------------------------------\n",
      "Name: Akhil\n",
      "Salary: 60000\n",
      "I am a Developer\n"
     ]
    }
   ],
   "source": [
    "# # HOME WORK:-----------------\n",
    "# # Problem 2: Inheritance – Employee Hierarchy - Create a base class Employee with:\n",
    "# # • name\n",
    "# # • salary\n",
    "# # Create two derived classes:\n",
    "# # • Manager with a method show_role() that prints \"I am a Manager\"\n",
    "# # • Developer with a method show_role() that prints \"I am a Developer\"\n",
    "# # Create objects of both classes, and show their details and roles/\n",
    "\n",
    "# # 2 ans)\n",
    "     \n",
    "# class Employee:\n",
    "#     def __init__(self, name, salary):\n",
    "#         self.name = name\n",
    "#         self.salary = salary\n",
    "\n",
    "#     def display_details(self):\n",
    "#         print(\"Name:\", self.name)\n",
    "#         print(\"Salary:\", self.salary)\n",
    "\n",
    "# class Manager(Employee):\n",
    "#     def show_role(self):\n",
    "#         print(\"I am a Manager\")\n",
    "\n",
    "# class Developer(Employee):\n",
    "#     def show_role(self):\n",
    "#         print(\"I am a Developer\")\n",
    "\n",
    "\n",
    "# m1 = Manager(\"Munthazir\", 75000)\n",
    "# m1.display_details()\n",
    "# m1.show_role()\n",
    "\n",
    "# print(\"-------------------------------------------------------------------\")\n",
    "\n",
    "\n",
    "# d1 = Developer(\"Akhil\", 60000)\n",
    "# d1.display_details()\n",
    "# d1.show_role()\n",
    "\n",
    "\n"
   ]
  },
  {
   "cell_type": "code",
   "execution_count": null,
   "id": "5acbc7fc",
   "metadata": {},
   "outputs": [
    {
     "name": "stdout",
     "output_type": "stream",
     "text": [
      "some sound\n",
      "Bark\n",
      "meows\n"
     ]
    }
   ],
   "source": [
    "# # HOME WORK:-----------------------------------\n",
    "# # Problem 3: Inheritance – Animal Sound Simulator - Create a base class Animal with a\n",
    "# # method make_sound() that prints \"Some sound\".\n",
    "# # Create two derived classes:\n",
    "# # • Dog that overrides make_sound() to print \"Bark\"\n",
    "# # • Cat that overrides make_sound() to print \"Meow\"\n",
    "# # Create one object of each class and call the make_sound() method.\n",
    "\n",
    "\n",
    "# class Animal():\n",
    "#     def make_sound(self):\n",
    "#         print(\"some sound\")\n",
    "\n",
    "# class dog(Animal):\n",
    "#     def make_sound(self):    \n",
    "#         print(\"Bark\")     \n",
    "\n",
    "# class cat(Animal):\n",
    "#     def make_sound(self):\n",
    "#         print(\"meows\")\n",
    "\n",
    "# A1=Animal()\n",
    "# B1=dog()\n",
    "# C1=cat()\n",
    "# A1.make_sound()\n",
    "# B1.make_sound()\n",
    "# C1.make_sound()\n",
    "\n",
    "\n"
   ]
  },
  {
   "cell_type": "code",
   "execution_count": null,
   "id": "32eabfe7",
   "metadata": {},
   "outputs": [],
   "source": [
    "DAY------>8\n",
    "___________________________________________________________________________\n",
    "\n",
    "Encapsulation-- Binding the data into a single unit\n",
    "Methods- setter & getter\n",
    "\n",
    "Access modifiers - public,private,protected\n",
    "\n"
   ]
  },
  {
   "cell_type": "code",
   "execution_count": null,
   "id": "466e6388",
   "metadata": {},
   "outputs": [],
   "source": [
    "# class person():\n",
    "#     def __init__(power,name,age):\n",
    "#         power.name= name #public\n",
    "#         power._age=age  #protected\n",
    "#         power.__age=age #private"
   ]
  },
  {
   "cell_type": "code",
   "execution_count": null,
   "id": "d0afed81",
   "metadata": {},
   "outputs": [
    {
     "name": "stdout",
     "output_type": "stream",
     "text": [
      "The name is Munthazir and the age is 21\n"
     ]
    }
   ],
   "source": [
    "# class Person():\n",
    "#     def __init__(p, name, age):\n",
    "#         p.name = name          # public (not protected unless _name)\n",
    "#         p.__age = age          # private attribute\n",
    "\n",
    "#     def display(p):\n",
    "#         print(f\"The name is {p.name} and the age is {p.__age}\")  \n",
    "\n",
    "#     def setter(p, newage):\n",
    "#         if newage > 0:\n",
    "#             p.__age = newage\n",
    "        \n",
    "\n",
    "#     def getter(p):\n",
    "#         return p.__age\n",
    "\n",
    "# p1 = Person(\"Munthazir\", 18)\n",
    "# p1.getter()\n",
    "# p1.setter(21)\n",
    "# p1.display()\n"
   ]
  },
  {
   "cell_type": "code",
   "execution_count": null,
   "id": "f4972b85",
   "metadata": {},
   "outputs": [
    {
     "name": "stdout",
     "output_type": "stream",
     "text": [
      "The name is Munthazir and the age is 18\n",
      "Current age is: 18\n",
      "The name is Munthazir and the age is 21\n"
     ]
    }
   ],
   "source": [
    "\n",
    "\n",
    "# class Person():\n",
    "#     def __init__(p, name, age):\n",
    "#         p.name = name          # public (not protected unless _name)\n",
    "#         p.__age = age          # private attribute\n",
    "\n",
    "#     def display(p):\n",
    "#         print(f\"The name is {p.name} and the age is {p.__age}\")  \n",
    "\n",
    "#     def setter(p, newage):\n",
    "#         if newage > 0:\n",
    "#             p.__age = newage\n",
    "        \n",
    "#     def getter(p):\n",
    "#         return p.__age\n",
    "\n",
    "# p1 = Person(\"Munthazir\", 18)\n",
    "# p1.display()\n",
    "# print(\"Current age is:\", p1.getter())\n",
    "# p1.setter(21)\n",
    "# p1.display()"
   ]
  },
  {
   "cell_type": "code",
   "execution_count": null,
   "id": "5c608099",
   "metadata": {},
   "outputs": [
    {
     "name": "stdout",
     "output_type": "stream",
     "text": [
      "Current PIN: 6389\n",
      "PIN updated successfully!\n",
      "Updated PIN: 1234\n",
      "Invalid PIN! PIN must be 4 digits.\n"
     ]
    }
   ],
   "source": [
    "# #create ATM class\n",
    "# #__init__ pin (pin should be in private)\n",
    "# # setter method -\n",
    "# # getter method -\n",
    "\n",
    "\n",
    "\n",
    "\n",
    "# class ATM():\n",
    "#     def __init__(self, pin):\n",
    "#         self.__pin = pin  \n",
    "\n",
    "#     def setter(self, new_pin):\n",
    "#         if len(str(new_pin)) == 4:\n",
    "#             self.__pin = new_pin\n",
    "#             print(\"PIN updated successfully!\")\n",
    "#         else:\n",
    "#             print(\"Invalid PIN! PIN must be 4 digits.\")\n",
    "\n",
    "#     def getter(self):\n",
    "#         return self.__pin\n",
    "\n",
    "\n",
    "# a1 = ATM(6389)\n",
    "# print(\"Current PIN:\", a1.getter()) \n",
    "# a1.setter(1234)\n",
    "# print(\"Updated PIN:\", a1.getter())  \n",
    "# a1.setter(90)\n"
   ]
  },
  {
   "cell_type": "code",
   "execution_count": null,
   "id": "08545ca9",
   "metadata": {},
   "outputs": [
    {
     "name": "stdout",
     "output_type": "stream",
     "text": [
      "Bird is flying in the sky\n",
      "The flight flies\n",
      "superman is flying using super power\n"
     ]
    }
   ],
   "source": [
    "# #polymorphism - We can perform the task in many ways\n",
    "\n",
    "# class Bird:\n",
    "#     def fly(self):\n",
    "#         print(\"Bird is flying in the sky\")\n",
    "\n",
    "# class flight:\n",
    "#     def fly(self):\n",
    "#         print(\"The flight flies\")\n",
    "\n",
    "# class superman:\n",
    "#     def fly(self):\n",
    "#         print(\"superman is flying using super power\")\n",
    "\n",
    "# B1=[Bird(),flight(),superman()]\n",
    "# for i in B1:\n",
    "#     i.fly()"
   ]
  },
  {
   "cell_type": "code",
   "execution_count": null,
   "id": "3f24d708",
   "metadata": {},
   "outputs": [
    {
     "name": "stdout",
     "output_type": "stream",
     "text": [
      "washing the fruits\n",
      "cut the fruit using knife\n",
      "Grind the fruit\n",
      "add reqiued sugar\n",
      "serve & enjoy\n"
     ]
    }
   ],
   "source": [
    "# #Abstraction( private & public , deosn't matter)\n",
    "\n",
    "# class juicemaker():\n",
    "#     def make_juice(self):\n",
    "#         self.__wash()\n",
    "#         self.__cutting_the_fruits()\n",
    "#         self.__blend()\n",
    "#         self.__adding_the_sugar()\n",
    "#         self.__serve()\n",
    "#     def __wash(self):\n",
    "#         print(\"washing the fruits\")\n",
    "\n",
    "#     def __cutting_the_fruits(self):\n",
    "#         print(\"cut the fruit using knife\")\n",
    "\n",
    "#     def __blend(self):\n",
    "#         print(\"Grind the fruit\")\n",
    "\n",
    "#     def __adding_the_sugar(self):\n",
    "#         print(\"add reqiued sugar\")\n",
    "\n",
    "#     def __serve(self):\n",
    "#         print(\"serve & enjoy\")\n",
    "\n",
    "# jm = juicemaker()\n",
    "# jm.make_juice()\n",
    "    \n",
    "    \n",
    "    \n"
   ]
  },
  {
   "cell_type": "code",
   "execution_count": null,
   "id": "32847f20",
   "metadata": {},
   "outputs": [],
   "source": [
    "student mangment system \n",
    "Employee dirctery system \n"
   ]
  },
  {
   "cell_type": "code",
   "execution_count": null,
   "id": "2f2a2b18",
   "metadata": {},
   "outputs": [
    {
     "name": "stdout",
     "output_type": "stream",
     "text": [
      "<__main__.person object at 0x00000239A37856A0>\n",
      "object destroyed\n"
     ]
    }
   ],
   "source": [
    "# #dunder method / special method/ double underscore method\n",
    "# from datetime import date\n",
    "# class person():\n",
    "#     def __init__(self):\n",
    "#         self.x = x\n",
    "#         self.y = y\n",
    "#     def __rep__(self,other):\n",
    "#         return f\"{self.x *  other.x, self.y*other.y}\"\n",
    "#     def __repr__(self):\n",
    "#         pass  \n",
    "\n",
    "\n",
    "\n",
    "\n",
    "#     # def __init__(self,name):\n",
    "#         # self.name = name\n",
    "\n",
    "# #def __str__(self):\n",
    "#      #return self.name\n",
    "\n",
    "#     # def __repr__(self): #developer or code debugger\n",
    "#         # return f\"person({self.name})\"\n",
    "    \n",
    "#     # def __del__(self):\n",
    "#         # print(\"object destroyed\")\n",
    "\n",
    "# p1 = person(\"munthazir\")\n",
    "# print(repr(p1))\n",
    "\n",
    "\n",
    "# #del p1 # if you want delete\n",
    "\n",
    "# # d = date(year=2006,month=10,day=13)\n",
    "# # print(d)\n",
    "# # y= datetime.date(2006,10,13)\n"
   ]
  },
  {
   "cell_type": "code",
   "execution_count": null,
   "id": "536c4388",
   "metadata": {},
   "outputs": [
    {
     "ename": "TypeError",
     "evalue": "Person() takes no arguments",
     "output_type": "error",
     "traceback": [
      "\u001b[31m---------------------------------------------------------------------------\u001b[39m",
      "\u001b[31mTypeError\u001b[39m                                 Traceback (most recent call last)",
      "\u001b[36mCell\u001b[39m\u001b[36m \u001b[39m\u001b[32mIn[1]\u001b[39m\u001b[32m, line 31\u001b[39m\n\u001b[32m     26\u001b[39m         \u001b[38;5;28;01mreturn\u001b[39;00m item \u001b[38;5;129;01min\u001b[39;00m \u001b[38;5;28mself\u001b[39m.data\n\u001b[32m     28\u001b[39m \u001b[38;5;66;03m# m1 = Person([15, 16, 2])\u001b[39;00m\n\u001b[32m     29\u001b[39m \u001b[38;5;66;03m# print(len(m1))\u001b[39;00m\n\u001b[32m---> \u001b[39m\u001b[32m31\u001b[39m m1 = \u001b[43mPerson\u001b[49m\u001b[43m(\u001b[49m\u001b[43m[\u001b[49m\u001b[32;43m15\u001b[39;49m\u001b[43m,\u001b[49m\u001b[43m \u001b[49m\u001b[32;43m16\u001b[39;49m\u001b[43m,\u001b[49m\u001b[43m \u001b[49m\u001b[32;43m2\u001b[39;49m\u001b[43m,\u001b[49m\u001b[43m \u001b[49m\u001b[32;43m89\u001b[39;49m\u001b[43m,\u001b[49m\u001b[43m \u001b[49m\u001b[32;43m000\u001b[39;49m\u001b[43m]\u001b[49m\u001b[43m)\u001b[49m\n\u001b[32m     32\u001b[39m \u001b[38;5;28mprint\u001b[39m(\u001b[38;5;28mlen\u001b[39m(m1))\n\u001b[32m     33\u001b[39m \u001b[38;5;28mprint\u001b[39m(\u001b[32m000\u001b[39m \u001b[38;5;129;01min\u001b[39;00m m1)\n",
      "\u001b[31mTypeError\u001b[39m: Person() takes no arguments"
     ]
    }
   ],
   "source": [
    "# # class Person:\n",
    "# #     def _init_(self, x, y):\n",
    "# #         self.x = x\n",
    "# #         self.y = y\n",
    "# #     def _repr_(self):\n",
    "# #         return f'{self.x}, {self.y}'\n",
    "# #     def _add(self, other):               # also same for 'sub', 'mul', 'eq', 'lt', 'gt', 'le', 'ge_'\n",
    "# # '_contains', 'getitems', 'call', 'hash_'\n",
    "# #         return Person(self.x + other.x, self.y + other.y)\n",
    "# #     # def _eq_(self, other):\n",
    "# #     #     return Person(self.x == other.x, self.y == other.y)\n",
    "# #\n",
    "# # p1 = Person(3, 4)\n",
    "# # p2 = Person(3, 4)\n",
    "# # print(p1 + p2)\n",
    "# # # print(p1 == p2)         # returns 'True, True'\n",
    "# # # after commenting '_eq_' function.\n",
    "# # print(p1 == p2)         # compares memory address.\n",
    "\n",
    "# class Person:\n",
    "#     def _init_(self, data):\n",
    "#         self.data = data\n",
    "#     def _len_(self):\n",
    "#         return len(self.data)\n",
    "#     def _contains_(self, item):\n",
    "#         return item in self.data\n",
    "\n",
    "# # m1 = Person([15, 16, 2])\n",
    "# # print(len(m1))\n",
    "\n",
    "# m1 = Person([15, 16, 2, 89, 000])\n",
    "# print(len(m1))\n",
    "# print(000 in m1)\n",
    "\n",
    "\n",
    "# # also same for '_sub', 'mul', 'eq', 'lt', 'gt', 'le', 'ge_'\n",
    "# # '_contains', 'getitems', 'call', 'hash_'\n",
    "\n",
    "\n"
   ]
  },
  {
   "cell_type": "code",
   "execution_count": null,
   "id": "8a0b2972",
   "metadata": {},
   "outputs": [
    {
     "name": "stdout",
     "output_type": "stream",
     "text": [
      "[None, None, 'Student: Anu (101)', True]\n"
     ]
    }
   ],
   "source": [
    "# class Student:\n",
    "#     def __init__(self, name, roll_no):\n",
    "#         self.name = name\n",
    "#         self.roll_no = roll_no\n",
    "\n",
    "#     def __str__(self):\n",
    "#         return f\"Student: {self.name} ({self.roll_no})\"\n",
    "\n",
    "#     def __eq__(self, other):\n",
    "#         return self.roll_no == other.roll_no\n",
    "\n",
    "# commands = [\"Student\", \"Student\", \"str\", \"eq\"]\n",
    "# values = [[\"Anu\", 101], [\"John\", 101], [0], [0, 1]]\n",
    "\n",
    "# objects = []\n",
    "# output = []\n",
    "\n",
    "# for i in range(len(commands)):\n",
    "#     if commands[i] == \"Student\":\n",
    "#         name, roll = values[i]\n",
    "#         objects.append(Student(name, roll))\n",
    "#         output.append(None)\n",
    "#     elif commands[i] == \"str\":\n",
    "#         idx = values[i][0]\n",
    "#         output.append(str(objects[idx]))\n",
    "#     elif commands[i] == \"eq\":\n",
    "#         idx1, idx2 = values[i]\n",
    "#         output.append(objects[idx1] == objects[idx2])\n",
    "\n",
    "# print(output)\n"
   ]
  },
  {
   "cell_type": "code",
   "execution_count": null,
   "id": "41f9ebd5",
   "metadata": {},
   "outputs": [
    {
     "name": "stdout",
     "output_type": "stream",
     "text": [
      "Hi hi hi\n",
      "The thread name is Thread 1\n"
     ]
    }
   ],
   "source": [
    "# #process - a program in execution\n",
    "# #thread - small unit of execution in an operating system\n",
    "\n",
    "# #it is not in itself a program but runs within a program \n",
    "# #help us to allow the program to excute sequentialy\n",
    "\n",
    "# # two module :1)thread module --->used for lowlevel thread\n",
    "#             #   2)threading module--->\n",
    "\n",
    "# from threading import Thread\n",
    "# def my_func():   \n",
    "#     print(f\"The thread name is Thread 1\")\n",
    "\n",
    "# def my_func1():\n",
    "#     print(\"Hi hi hi\")\n",
    "# t1 = Thread(target = my_func1)    \n",
    "# t2 = Thread(target = my_func)\n",
    "# t1.start()\n",
    "# t1.join()\n",
    "# t2.start()\n"
   ]
  },
  {
   "cell_type": "code",
   "execution_count": null,
   "id": "9fe5e1e6",
   "metadata": {},
   "outputs": [
    {
     "name": "stdout",
     "output_type": "stream",
     "text": [
      "The name is godson \n",
      "The name is razi \n"
     ]
    }
   ],
   "source": [
    "# from threading import Thread\n",
    "# def my_func(name):   \n",
    "#     print(f\"The name is {name} \")\n",
    "\n",
    "# t1 = Thread(target = my_func , args=(\"godson\",)).start()    \n",
    "# t2 = Thread(target = my_func ,args=(\"razi\",)).start()\n"
   ]
  },
  {
   "cell_type": "code",
   "execution_count": null,
   "id": "410406a4",
   "metadata": {},
   "outputs": [],
   "source": [
    "\n",
    "# #print the thread  name\n",
    "# def my_func():\n",
    "#     print(f\"the thread name is threading.current \")\n"
   ]
  },
  {
   "cell_type": "code",
   "execution_count": null,
   "id": "bd67853d",
   "metadata": {},
   "outputs": [
    {
     "name": "stdout",
     "output_type": "stream",
     "text": [
      "Downloading....\n"
     ]
    },
    {
     "name": "stdout",
     "output_type": "stream",
     "text": [
      "Done!\n"
     ]
    }
   ],
   "source": [
    "# import threading, time\n",
    "# def download():\n",
    "#     print(\"Downloading....\")\n",
    "#     time.sleep(2)\n",
    "#     print(\"Done!\")\n",
    "# threading.Thread(target=download).start()\n",
    "    "
   ]
  },
  {
   "cell_type": "code",
   "execution_count": null,
   "id": "22a3ea46",
   "metadata": {},
   "outputs": [
    {
     "name": "stdout",
     "output_type": "stream",
     "text": [
      "Running in,threading.current_thread()\n"
     ]
    }
   ],
   "source": [
    "# # print the thread name\n",
    "# # from threading import Thread\n",
    "\n",
    "# from threading import Thread\n",
    "# import threading\n",
    "# def show_name():\n",
    "#     print(\"Running in,threading.current_thread()\")\n",
    "# threading.Thread(target=show_name).start()\n"
   ]
  },
  {
   "cell_type": "code",
   "execution_count": null,
   "id": "43b0be4f",
   "metadata": {},
   "outputs": [
    {
     "name": "stdout",
     "output_type": "stream",
     "text": [
      "['Hello from Thread-1', 'Hello from Thread-2', 'Hello from Thread-3', 'Hello from Thread-4', 'Hello from Thread-5']\n",
      "final counter value\n"
     ]
    }
   ],
   "source": [
    "# #Running in Thread\n",
    "\n",
    "# import threading\n",
    "# messages = []\n",
    "# def say_hello(num):\n",
    "#     messages.append(f\"Hello from Thread-{num}\")\n",
    "# n=5\n",
    "# threads = []\n",
    "# for i in range(1,n+1):\n",
    "#     t=threading.Thread (target=say_hello,args=(i,))\n",
    "\n",
    "#     t.start()\n",
    "#     threads.append(t)\n",
    "# for t in threads:\n",
    "#     t.join()\n",
    "# print(messages)    \n",
    "\n",
    "# threads = []\n",
    "# for i in range(5):\n",
    "#     t = Thread(target=increase)\n",
    "#     t.start()\n",
    "#     threads.append(t)\n",
    "#     for t in threads:\n",
    "#         t.join()\n",
    "\n",
    "# print(\"final counter value\")        \n"
   ]
  },
  {
   "cell_type": "code",
   "execution_count": null,
   "id": "995d8921",
   "metadata": {},
   "outputs": [
    {
     "name": "stdout",
     "output_type": "stream",
     "text": [
      "final counter value: 5000\n"
     ]
    }
   ],
   "source": [
    "# from threading import Thread\n",
    "# count = 0\n",
    "# def increase ():\n",
    "#     global count \n",
    "#     for i in range(1000):\n",
    "#         count+=1\n",
    "# threads = []\n",
    "# for i in range(5):\n",
    "#     t = Thread(target=increase)\n",
    "#     t.start()\n",
    "#     threads.append(t)\n",
    "#     for t in threads:\n",
    "#         t.join()\n",
    "\n",
    "# print(\"final counter value:\", count)        \n",
    "\n",
    "        \n"
   ]
  },
  {
   "cell_type": "code",
   "execution_count": null,
   "id": "1932ab99",
   "metadata": {},
   "outputs": [],
   "source": [
    "# "
   ]
  }
 ],
 "metadata": {
  "kernelspec": {
   "display_name": "Python 3",
   "language": "python",
   "name": "python3"
  },
  "language_info": {
   "codemirror_mode": {
    "name": "ipython",
    "version": 3
   },
   "file_extension": ".py",
   "mimetype": "text/x-python",
   "name": "python",
   "nbconvert_exporter": "python",
   "pygments_lexer": "ipython3",
   "version": "3.13.5"
  }
 },
 "nbformat": 4,
 "nbformat_minor": 5
}
