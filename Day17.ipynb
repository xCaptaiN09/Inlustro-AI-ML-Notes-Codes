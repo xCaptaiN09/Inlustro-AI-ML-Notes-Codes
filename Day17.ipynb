{
 "cells": [
  {
   "cell_type": "code",
   "execution_count": null,
   "id": "85e7ec23",
   "metadata": {},
   "outputs": [
    {
     "name": "stdout",
     "output_type": "stream",
     "text": [
      "       Hello Nihal       \n",
      "       hello nihal       \n",
      "       HELLO NIHAL       \n",
      "HELLO NIHAL\n",
      "True\n"
     ]
    }
   ],
   "source": [
    "# String      -> anagram\n",
    "\n",
    "a = 'Hello'\n",
    "# print(a)\n",
    "\n",
    "# slicing method\n",
    "\n",
    "# print(a[-3::1])\n",
    "\n",
    "# for i in a:\n",
    "#     print(i)\n",
    "\n",
    "# string methods\n",
    "\n",
    "# lower, upper, split, strip, isalpha, find, count, replace, getof\n",
    "\n",
    "x = '       Hello Hai       '\n",
    "x = x.replace('Hai', 'Nihal')\n",
    "a = 'Nihal'\n",
    "print(x)\n",
    "x = x.lower()\n",
    "print(x)\n",
    "x = x.upper()\n",
    "print(x)\n",
    "# x = x.split()\n",
    "# print(x)\n",
    "x = x.strip()\n",
    "print(x)\n",
    "y = a.isalpha()\n",
    "print(y)\n",
    "\n",
    "# if value == m(3) & value == m(5) : print('fizzbuzz')\n",
    "# only value == m(3) : print('fizz')\n",
    "# only value == m(5) : print('buzz')\n"
   ]
  },
  {
   "cell_type": "code",
   "execution_count": null,
   "id": "482c0611",
   "metadata": {},
   "outputs": [
    {
     "name": "stdout",
     "output_type": "stream",
     "text": [
      "fizz buzz\n"
     ]
    }
   ],
   "source": [
    "value = int(input('Enter the value: '))\n",
    "\n",
    "if value % 3 == 0 and value % 5 == 0:\n",
    "    print('fizz buzz')\n",
    "elif value % 3 == 0:\n",
    "    print('fizz')\n",
    "elif value % 5 == 0:\n",
    "\n",
    "    print('buzz')"
   ]
  },
  {
   "cell_type": "code",
   "execution_count": null,
   "id": "d896cc8c",
   "metadata": {},
   "outputs": [
    {
     "name": "stdout",
     "output_type": "stream",
     "text": [
      "hello hello hello hello hello hello hello hello hello hello hello hello hello hello hello hello hello hello hello hello hello hello hello hello hello hello hello hello hello hello hello hello hello hello hello hello hello hello hello hello hello hello hello hello hello hello hello hello hello hello hello hello hello hello hello hello hello hello hello hello hello hello hello hello hello hello hello hello hello hello hello hello hello hello hello hello hello hello hello hello hello hello hello hello hello hello hello hello hello hello hello hello hello hello hello hello hello hello hello hello\n",
      "['hello', 'hello', 'hello', 'hello', 'hello', 'hello', 'hello', 'hello', 'hello', 'hello', 'hello', 'hello', 'hello', 'hello', 'hello', 'hello', 'hello', 'hello', 'hello', 'hello', 'hello', 'hello', 'hello', 'hello', 'hello', 'hello', 'hello', 'hello', 'hello', 'hello', 'hello', 'hello', 'hello', 'hello', 'hello', 'hello', 'hello', 'hello', 'hello', 'hello', 'hello', 'hello', 'hello', 'hello', 'hello', 'hello', 'hello', 'hello', 'hello', 'hello', 'hello', 'hello', 'hello', 'hello', 'hello', 'hello', 'hello', 'hello', 'hello', 'hello', 'hello', 'hello', 'hello', 'hello', 'hello', 'hello', 'hello', 'hello', 'hello', 'hello', 'hello', 'hello', 'hello', 'hello', 'hello', 'hello', 'hello', 'hello', 'hello', 'hello', 'hello', 'hello', 'hello', 'hello', 'hello', 'hello', 'hello', 'hello', 'hello', 'hello', 'hello', 'hello', 'hello', 'hello', 'hello', 'hello', 'hello', 'hello', 'hello', 'hello']\n"
     ]
    }
   ],
   "source": [
    "# s = []\n",
    "# for i in range(100):\n",
    "#     s.append('hello')\n",
    "# char = ' '.join(s)\n",
    "# print(char)\n",
    "# print(s)\n",
    "\n",
    "# # strings are immutable\n",
    "# # it mostly avoids '+=' operator"
   ]
  },
  {
   "cell_type": "code",
   "execution_count": 52,
   "id": "a1e1669a",
   "metadata": {},
   "outputs": [
    {
     "name": "stdout",
     "output_type": "stream",
     "text": [
      "a\n",
      "ab\n",
      "abc\n",
      "b\n",
      "bc\n",
      "c\n"
     ]
    }
   ],
   "source": [
    "# substrings - sequence of character within string\n",
    "x = 'abc' # a, b, c, ab, bc, abc\n",
    "n = len(x)\n",
    "for i in range(n):\n",
    "    for j in range(i+1, n+1):\n",
    "        print(x[i:j])\n"
   ]
  },
  {
   "cell_type": "code",
   "execution_count": 54,
   "id": "e7708b5b",
   "metadata": {},
   "outputs": [
    {
     "name": "stdout",
     "output_type": "stream",
     "text": [
      "9\n"
     ]
    }
   ],
   "source": [
    "# count palindromic substrings\n",
    "\n",
    "\n",
    "\n",
    "def palindrome(s):\n",
    "    count = 0\n",
    "    x = []\n",
    "    n = len(s)\n",
    "    for i in range(n):\n",
    "        for j in range(i+1, n+1):\n",
    "            if s[i:j] == s[i:j][::-1]:\n",
    "                count +=1\n",
    "    print(count)\n",
    "s = 'aabaa'\n",
    "palindrome(s)\n",
    "\n"
   ]
  },
  {
   "cell_type": "code",
   "execution_count": null,
   "id": "c7291140",
   "metadata": {},
   "outputs": [],
   "source": [
    "# substring techniques\n",
    "\n",
    "# 1. sliding window\n",
    "# 2. prefix sum of strings\n",
    "# 3. rolling hash"
   ]
  },
  {
   "cell_type": "code",
   "execution_count": null,
   "id": "fcd5f12b",
   "metadata": {},
   "outputs": [
    {
     "name": "stdout",
     "output_type": "stream",
     "text": [
      "b, size = 1\n",
      "ba, size = 2\n",
      "bac, size = 3\n",
      "a, size = 1\n",
      "ac, size = 2\n",
      "c, size = 1\n",
      "['a', 'ac', 'c', 'b', 'ba', 'bac']\n",
      "ac\n"
     ]
    }
   ],
   "source": [
    "# s = 'abcabcbb'\n",
    "# def long_str(s):\n",
    "#     n = len(s)\n",
    "#     for i in range(n):\n",
    "#         seen = set()\n",
    "#         for j in range(i+1, n+1):\n",
    "#             if s[j]"
   ]
  }
 ],
 "metadata": {
  "kernelspec": {
   "display_name": ".venv-1 (3.12.3)",
   "language": "python",
   "name": "python3"
  },
  "language_info": {
   "codemirror_mode": {
    "name": "ipython",
    "version": 3
   },
   "file_extension": ".py",
   "mimetype": "text/x-python",
   "name": "python",
   "nbconvert_exporter": "python",
   "pygments_lexer": "ipython3",
   "version": "3.12.3"
  }
 },
 "nbformat": 4,
 "nbformat_minor": 5
}
