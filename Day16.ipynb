{
 "cells": [
  {
   "cell_type": "code",
   "execution_count": 1,
   "id": "4d5059d5",
   "metadata": {},
   "outputs": [],
   "source": [
    "# Day 16\n",
    "\n",
    "# Array Concept - Simimlar Data Types"
   ]
  },
  {
   "cell_type": "code",
   "execution_count": 2,
   "id": "189d9638",
   "metadata": {},
   "outputs": [
    {
     "name": "stdout",
     "output_type": "stream",
     "text": [
      "[5, 8, 10, 20]\n",
      "10\n",
      "-------------------------------------------------------------------------------------------------------------------------------------------------------\n"
     ]
    }
   ],
   "source": [
    "# Second Largest number\n",
    "\n",
    "# By Using sort Function\n",
    "arr = [20,5,8,10]\n",
    "a = sorted(arr)\n",
    "print(a)\n",
    "print(a[-2])\n",
    "print(\"-------------------------------------------------------------------------------------------------------------------------------------------------------\")\n"
   ]
  },
  {
   "cell_type": "code",
   "execution_count": 3,
   "id": "d06a20d1",
   "metadata": {},
   "outputs": [
    {
     "name": "stdout",
     "output_type": "stream",
     "text": [
      "10\n",
      "-------------------------------------------------------------------------------------------------------------------------------------------------------\n"
     ]
    }
   ],
   "source": [
    "\n",
    "# Another method for Sort\n",
    "arr.sort(reverse = False)\n",
    "print(arr[-2])\n",
    "print(\"-------------------------------------------------------------------------------------------------------------------------------------------------------\")\n"
   ]
  },
  {
   "cell_type": "code",
   "execution_count": 4,
   "id": "6602663d",
   "metadata": {},
   "outputs": [
    {
     "name": "stdout",
     "output_type": "stream",
     "text": [
      "10\n",
      "-------------------------------------------------------------------------------------------------------------------------------------------------------\n"
     ]
    }
   ],
   "source": [
    "\n",
    "# By Using Max Function\n",
    "a2 = max(arr)\n",
    "arr.remove(a2)\n",
    "print(max(arr))\n",
    "print(\"-------------------------------------------------------------------------------------------------------------------------------------------------------\")\n"
   ]
  },
  {
   "cell_type": "code",
   "execution_count": 5,
   "id": "d40dc080",
   "metadata": {},
   "outputs": [
    {
     "name": "stdout",
     "output_type": "stream",
     "text": [
      "10\n",
      "-------------------------------------------------------------------------------------------------------------------------------------------------------\n"
     ]
    }
   ],
   "source": [
    "\n",
    "# Another method for max\n",
    "arr = [20,5,8,10]\n",
    "m1 = len(arr)\n",
    "if m1<2:\n",
    "    print -1\n",
    "for i in arr:\n",
    "    max1 = max(arr)\n",
    "    arr.remove(max1)\n",
    "    max2 = max(arr)\n",
    "    print(max2)\n",
    "    break\n",
    "print(\"-------------------------------------------------------------------------------------------------------------------------------------------------------\")\n"
   ]
  },
  {
   "cell_type": "code",
   "execution_count": 6,
   "id": "972e018d",
   "metadata": {},
   "outputs": [
    {
     "name": "stdout",
     "output_type": "stream",
     "text": [
      "[20, 5, 8, 10, 30]\n",
      "10\n",
      "-------------------------------------------------------------------------------------------------------------------------------------------------------\n"
     ]
    }
   ],
   "source": [
    "\n",
    "# By Not Using any functions\n",
    "arr = [20,30,5,8,10]\n",
    "for i in range(len(arr)-1):\n",
    "    if arr[i] > arr[i+1]:\n",
    "        temp = arr[i]\n",
    "        arr[i] = arr[i+1]\n",
    "        arr[i+1] = temp\n",
    "print(arr)\n",
    "print(arr[-2])\n",
    "print(\"-------------------------------------------------------------------------------------------------------------------------------------------------------\")\n"
   ]
  },
  {
   "cell_type": "code",
   "execution_count": 7,
   "id": "539a24e8",
   "metadata": {},
   "outputs": [
    {
     "name": "stdout",
     "output_type": "stream",
     "text": [
      "[5, 8, 10, 20]\n"
     ]
    }
   ],
   "source": [
    "\n",
    "def sec_lar(nums):\n",
    "    for i in range(len(nums)-1):\n",
    "        for j in range(len(nums)-1):\n",
    "            if nums[j] > nums[j+1]:\n",
    "                temp = nums[j]\n",
    "                nums[j] = nums[j+1]\n",
    "                nums[j+1] = temp\n",
    "    return nums\n",
    "\n",
    "print(sec_lar([10,20,5,8]))"
   ]
  },
  {
   "cell_type": "code",
   "execution_count": 8,
   "id": "7355c7a5",
   "metadata": {},
   "outputs": [
    {
     "name": "stdout",
     "output_type": "stream",
     "text": [
      "['Abhinand', 'Razzeen']\n"
     ]
    }
   ],
   "source": [
    "# Create one array - student name 5\n",
    "# another array - How many student Present\n",
    "# Output of Absentees\n",
    "\n",
    "\n",
    "total = [\"Vishal\",\"Razi\",\"Abhinand\",\"Niranjan\",\"Razzeen\"]\n",
    "present = [\"Razi\",\"Vishal\",\"Niranjan\"]\n",
    "absentees = []\n",
    "for i in total:\n",
    "    if i not in present:\n",
    "        absentees.append(i)\n",
    "print(absentees)"
   ]
  },
  {
   "cell_type": "code",
   "execution_count": 9,
   "id": "8ad1835a",
   "metadata": {},
   "outputs": [
    {
     "name": "stdout",
     "output_type": "stream",
     "text": [
      "[120, 180]\n"
     ]
    }
   ],
   "source": [
    "# Consider a list of product price \n",
    "# Above 100 after performing a 10% discount\n",
    "\n",
    "'''\n",
    "products = [50,120,50,20,180]\n",
    "disc = []\n",
    "cor = []\n",
    "for i in products:\n",
    "    temp = i*0.9\n",
    "    disc.append(temp)\n",
    "for k in disc:\n",
    "    if str(disc[k]) > 100:\n",
    "        cor.append(disc[k])\n",
    "\n",
    "print(cor)\n",
    "\n",
    "'''\n",
    "\n",
    "# Another Method\n",
    "\n",
    "prices = [50,120,50,20,180]\n",
    "p1 = []\n",
    "for p in prices:\n",
    "    if p*0.9 > 100:\n",
    "        p1.append(p)\n",
    "print(p1)"
   ]
  },
  {
   "cell_type": "code",
   "execution_count": 10,
   "id": "63afe9f2",
   "metadata": {},
   "outputs": [
    {
     "name": "stdout",
     "output_type": "stream",
     "text": [
      "{'3am': 2, '4am': 1, '5am': 1}\n",
      "-------------------------------------------------------------------------------------------------------------------------------------------------------\n",
      "Counter({'3am': 2, '4am': 1, '5am': 1})\n"
     ]
    }
   ],
   "source": [
    "# GYM Time\n",
    "# Create array of time \n",
    "\n",
    "time = [\"3am\",\"4am\",\"3am\",\"5am\"]\n",
    "count = {}\n",
    "for i in time:\n",
    "    if i not in count:\n",
    "        count[i] = 1\n",
    "    else:\n",
    "        count[i]+=1\n",
    "print(count)\n",
    "print(\"-------------------------------------------------------------------------------------------------------------------------------------------------------\")\n",
    "\n",
    "# Another Method\n",
    "from collections import Counter\n",
    "arr = [\"3am\",\"4am\",\"3am\",\"5am\"]\n",
    "slot_count = Counter(arr)\n",
    "print(slot_count)"
   ]
  },
  {
   "cell_type": "code",
   "execution_count": 11,
   "id": "212f6b75",
   "metadata": {},
   "outputs": [
    {
     "name": "stdout",
     "output_type": "stream",
     "text": [
      "Sum =  290\n",
      "Average =  72.5\n"
     ]
    }
   ],
   "source": [
    "# Electricity Bill\n",
    "units = [10,5,2,12]\n",
    "s = 0\n",
    "for i in units:\n",
    "    u = i*10\n",
    "    s+=u\n",
    "avg = s/len(units)\n",
    "print(\"Sum = \",s)\n",
    "print(\"Average = \",avg)"
   ]
  }
 ],
 "metadata": {
  "kernelspec": {
   "display_name": "Python 3",
   "language": "python",
   "name": "python3"
  },
  "language_info": {
   "codemirror_mode": {
    "name": "ipython",
    "version": 3
   },
   "file_extension": ".py",
   "mimetype": "text/x-python",
   "name": "python",
   "nbconvert_exporter": "python",
   "pygments_lexer": "ipython3",
   "version": "3.13.2"
  }
 },
 "nbformat": 4,
 "nbformat_minor": 5
}
